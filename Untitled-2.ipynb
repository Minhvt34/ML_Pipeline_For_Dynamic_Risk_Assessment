{
 "cells": [
  {
   "cell_type": "code",
   "execution_count": 4,
   "metadata": {},
   "outputs": [],
   "source": [
    "import pandas as pd"
   ]
  },
  {
   "cell_type": "code",
   "execution_count": 2,
   "metadata": {},
   "outputs": [
    {
     "data": {
      "text/html": [
       "<div>\n",
       "<style scoped>\n",
       "    .dataframe tbody tr th:only-of-type {\n",
       "        vertical-align: middle;\n",
       "    }\n",
       "\n",
       "    .dataframe tbody tr th {\n",
       "        vertical-align: top;\n",
       "    }\n",
       "\n",
       "    .dataframe thead th {\n",
       "        text-align: right;\n",
       "    }\n",
       "</style>\n",
       "<table border=\"1\" class=\"dataframe\">\n",
       "  <thead>\n",
       "    <tr style=\"text-align: right;\">\n",
       "      <th></th>\n",
       "      <th>col1</th>\n",
       "      <th>col2</th>\n",
       "    </tr>\n",
       "  </thead>\n",
       "  <tbody>\n",
       "    <tr>\n",
       "      <th>0</th>\n",
       "      <td>1</td>\n",
       "      <td>a</td>\n",
       "    </tr>\n",
       "    <tr>\n",
       "      <th>1</th>\n",
       "      <td>2</td>\n",
       "      <td>b</td>\n",
       "    </tr>\n",
       "    <tr>\n",
       "      <th>2</th>\n",
       "      <td>3</td>\n",
       "      <td>a</td>\n",
       "    </tr>\n",
       "    <tr>\n",
       "      <th>3</th>\n",
       "      <td>4</td>\n",
       "      <td>a</td>\n",
       "    </tr>\n",
       "  </tbody>\n",
       "</table>\n",
       "</div>"
      ],
      "text/plain": [
       "   col1 col2\n",
       "0     1    a\n",
       "1     2    b\n",
       "2     3    a\n",
       "3     4    a"
      ]
     },
     "execution_count": 2,
     "metadata": {},
     "output_type": "execute_result"
    }
   ],
   "source": [
    "df = pd.DataFrame({\"col1\": [1, 2, 3, 4], \"col2\": [\"a\", \"b\", \"a\", \"a\"]})\n",
    "df"
   ]
  },
  {
   "cell_type": "code",
   "execution_count": null,
   "metadata": {},
   "outputs": [],
   "source": [
    "pip install fugue[Dash]"
   ]
  },
  {
   "cell_type": "code",
   "execution_count": 25,
   "metadata": {},
   "outputs": [
    {
     "name": "stdout",
     "output_type": "stream",
     "text": [
      "Defaulting to user installation because normal site-packages is not writeable\n",
      "Requirement already satisfied: fugue[all] in c:\\users\\minhv\\appdata\\roaming\\python\\python38\\site-packages (0.7.3)\n",
      "Requirement already satisfied: pandas>=1.0.2 in c:\\users\\minhv\\appdata\\roaming\\python\\python38\\site-packages (from fugue[all]) (1.5.1)\n",
      "Requirement already satisfied: jinja2 in c:\\users\\minhv\\appdata\\roaming\\python\\python38\\site-packages (from fugue[all]) (3.1.2)\n",
      "Requirement already satisfied: triad>=0.6.9 in c:\\users\\minhv\\appdata\\roaming\\python\\python38\\site-packages (from fugue[all]) (0.7.0)\n",
      "Requirement already satisfied: pyarrow>=0.15.1 in c:\\users\\minhv\\appdata\\roaming\\python\\python38\\site-packages (from fugue[all]) (10.0.1)\n",
      "Requirement already satisfied: fugue-sql-antlr>=0.1.1 in c:\\users\\minhv\\appdata\\roaming\\python\\python38\\site-packages (from fugue[all]) (0.1.1)\n",
      "Requirement already satisfied: sqlalchemy in c:\\users\\minhv\\appdata\\roaming\\python\\python38\\site-packages (from fugue[all]) (1.3.9)\n",
      "Requirement already satisfied: adagio>=0.2.4 in c:\\users\\minhv\\appdata\\roaming\\python\\python38\\site-packages (from fugue[all]) (0.2.4)\n",
      "Requirement already satisfied: qpd>=0.3.1 in c:\\users\\minhv\\appdata\\roaming\\python\\python38\\site-packages (from fugue[all]) (0.3.4)\n",
      "Requirement already satisfied: pyspark in c:\\users\\minhv\\appdata\\roaming\\python\\python38\\site-packages (from fugue[all]) (3.3.1)\n",
      "Requirement already satisfied: dask[dataframe,distributed] in c:\\users\\minhv\\appdata\\roaming\\python\\python38\\site-packages (from fugue[all]) (2022.12.1)\n",
      "Requirement already satisfied: ray>=2.0.0 in c:\\users\\minhv\\appdata\\roaming\\python\\python38\\site-packages (from fugue[all]) (2.2.0)\n",
      "Requirement already satisfied: jupyterlab in c:\\users\\minhv\\appdata\\roaming\\python\\python38\\site-packages (from fugue[all]) (3.5.2)\n",
      "Requirement already satisfied: ibis-framework>=3.2.0 in c:\\users\\minhv\\appdata\\roaming\\python\\python38\\site-packages (from fugue[all]) (3.2.0)\n",
      "Requirement already satisfied: ipython>=7.10.0 in c:\\users\\minhv\\appdata\\roaming\\python\\python38\\site-packages (from fugue[all]) (8.7.0)\n",
      "Requirement already satisfied: duckdb>=0.5.0 in c:\\users\\minhv\\appdata\\roaming\\python\\python38\\site-packages (from fugue[all]) (0.6.1)\n",
      "Requirement already satisfied: notebook in c:\\users\\minhv\\appdata\\roaming\\python\\python38\\site-packages (from fugue[all]) (6.5.2)\n",
      "Requirement already satisfied: numpy>=1.14 in c:\\users\\minhv\\appdata\\roaming\\python\\python38\\site-packages (from duckdb>=0.5.0->fugue[all]) (1.23.4)\n",
      "Requirement already satisfied: antlr4-python3-runtime<4.12,>=4.11.1 in c:\\users\\minhv\\appdata\\roaming\\python\\python38\\site-packages (from fugue-sql-antlr>=0.1.1->fugue[all]) (4.11.1)\n",
      "Requirement already satisfied: fugue-sql-antlr-cpp==0.1.1 in c:\\users\\minhv\\appdata\\roaming\\python\\python38\\site-packages (from fugue-sql-antlr>=0.1.1->fugue[all]) (0.1.1)\n",
      "Requirement already satisfied: atpublic<4,>=2.3 in c:\\users\\minhv\\appdata\\roaming\\python\\python38\\site-packages (from ibis-framework>=3.2.0->fugue[all]) (3.1.1)\n",
      "Requirement already satisfied: parsy<3,>=1.3.0 in c:\\users\\minhv\\appdata\\roaming\\python\\python38\\site-packages (from ibis-framework>=3.2.0->fugue[all]) (2.0)\n",
      "Requirement already satisfied: pydantic<2,>=1.9.0 in c:\\users\\minhv\\appdata\\roaming\\python\\python38\\site-packages (from ibis-framework>=3.2.0->fugue[all]) (1.10.2)\n",
      "Requirement already satisfied: toolz<0.13,>=0.11 in c:\\users\\minhv\\appdata\\roaming\\python\\python38\\site-packages (from ibis-framework>=3.2.0->fugue[all]) (0.12.0)\n",
      "Requirement already satisfied: multipledispatch<0.7,>=0.6 in c:\\users\\minhv\\appdata\\roaming\\python\\python38\\site-packages (from ibis-framework>=3.2.0->fugue[all]) (0.6.0)\n",
      "Requirement already satisfied: regex>=2021.7.6 in c:\\users\\minhv\\appdata\\roaming\\python\\python38\\site-packages (from ibis-framework>=3.2.0->fugue[all]) (2022.10.31)\n",
      "Requirement already satisfied: packaging<22,>=21.3 in c:\\users\\minhv\\appdata\\roaming\\python\\python38\\site-packages (from ibis-framework>=3.2.0->fugue[all]) (21.3)\n",
      "Requirement already satisfied: rich<13,>=12.4.4 in c:\\users\\minhv\\appdata\\roaming\\python\\python38\\site-packages (from ibis-framework>=3.2.0->fugue[all]) (12.6.0)\n",
      "Requirement already satisfied: matplotlib-inline in c:\\users\\minhv\\appdata\\roaming\\python\\python38\\site-packages (from ipython>=7.10.0->fugue[all]) (0.1.6)\n",
      "Requirement already satisfied: prompt-toolkit<3.1.0,>=3.0.11 in c:\\users\\minhv\\appdata\\roaming\\python\\python38\\site-packages (from ipython>=7.10.0->fugue[all]) (3.0.36)\n",
      "Requirement already satisfied: pygments>=2.4.0 in c:\\users\\minhv\\appdata\\roaming\\python\\python38\\site-packages (from ipython>=7.10.0->fugue[all]) (2.13.0)\n",
      "Requirement already satisfied: stack-data in c:\\users\\minhv\\appdata\\roaming\\python\\python38\\site-packages (from ipython>=7.10.0->fugue[all]) (0.6.2)\n",
      "Requirement already satisfied: pickleshare in c:\\users\\minhv\\appdata\\roaming\\python\\python38\\site-packages (from ipython>=7.10.0->fugue[all]) (0.7.5)\n",
      "Requirement already satisfied: jedi>=0.16 in c:\\users\\minhv\\appdata\\roaming\\python\\python38\\site-packages (from ipython>=7.10.0->fugue[all]) (0.18.2)\n",
      "Requirement already satisfied: backcall in c:\\users\\minhv\\appdata\\roaming\\python\\python38\\site-packages (from ipython>=7.10.0->fugue[all]) (0.2.0)\n",
      "Requirement already satisfied: decorator in c:\\users\\minhv\\appdata\\roaming\\python\\python38\\site-packages (from ipython>=7.10.0->fugue[all]) (5.1.1)\n",
      "Requirement already satisfied: traitlets>=5 in c:\\users\\minhv\\appdata\\roaming\\python\\python38\\site-packages (from ipython>=7.10.0->fugue[all]) (5.8.0)\n",
      "Requirement already satisfied: colorama in c:\\users\\minhv\\appdata\\roaming\\python\\python38\\site-packages (from ipython>=7.10.0->fugue[all]) (0.4.6)\n",
      "Requirement already satisfied: pytz>=2020.1 in c:\\users\\minhv\\appdata\\roaming\\python\\python38\\site-packages (from pandas>=1.0.2->fugue[all]) (2022.6)\n",
      "Requirement already satisfied: python-dateutil>=2.8.1 in c:\\users\\minhv\\appdata\\roaming\\python\\python38\\site-packages (from pandas>=1.0.2->fugue[all]) (2.8.2)\n",
      "Requirement already satisfied: cloudpickle>=1.4.0 in c:\\users\\minhv\\appdata\\roaming\\python\\python38\\site-packages (from qpd>=0.3.1->fugue[all]) (2.2.0)\n",
      "Requirement already satisfied: msgpack<2.0.0,>=1.0.0 in c:\\users\\minhv\\appdata\\roaming\\python\\python38\\site-packages (from ray>=2.0.0->fugue[all]) (1.0.4)\n",
      "Requirement already satisfied: frozenlist in c:\\users\\minhv\\appdata\\roaming\\python\\python38\\site-packages (from ray>=2.0.0->fugue[all]) (1.3.3)\n",
      "Requirement already satisfied: attrs in c:\\users\\minhv\\appdata\\roaming\\python\\python38\\site-packages (from ray>=2.0.0->fugue[all]) (22.2.0)\n",
      "Requirement already satisfied: aiosignal in c:\\users\\minhv\\appdata\\roaming\\python\\python38\\site-packages (from ray>=2.0.0->fugue[all]) (1.3.1)\n",
      "Requirement already satisfied: virtualenv>=20.0.24 in c:\\users\\minhv\\appdata\\roaming\\python\\python38\\site-packages (from ray>=2.0.0->fugue[all]) (20.17.1)\n",
      "Requirement already satisfied: grpcio>=1.32.0 in c:\\users\\minhv\\appdata\\roaming\\python\\python38\\site-packages (from ray>=2.0.0->fugue[all]) (1.51.1)\n",
      "Requirement already satisfied: filelock in c:\\users\\minhv\\appdata\\roaming\\python\\python38\\site-packages (from ray>=2.0.0->fugue[all]) (3.8.2)\n",
      "Requirement already satisfied: jsonschema in c:\\users\\minhv\\appdata\\roaming\\python\\python38\\site-packages (from ray>=2.0.0->fugue[all]) (4.17.3)\n",
      "Requirement already satisfied: protobuf!=3.19.5,>=3.15.3 in c:\\users\\minhv\\appdata\\roaming\\python\\python38\\site-packages (from ray>=2.0.0->fugue[all]) (4.21.12)\n",
      "Requirement already satisfied: click>=7.0 in c:\\users\\minhv\\appdata\\roaming\\python\\python38\\site-packages (from ray>=2.0.0->fugue[all]) (8.1.3)\n",
      "Requirement already satisfied: requests in c:\\users\\minhv\\appdata\\roaming\\python\\python38\\site-packages (from ray>=2.0.0->fugue[all]) (2.28.1)\n",
      "Requirement already satisfied: pyyaml in c:\\users\\minhv\\appdata\\roaming\\python\\python38\\site-packages (from ray>=2.0.0->fugue[all]) (6.0)\n",
      "Requirement already satisfied: fs in c:\\users\\minhv\\appdata\\roaming\\python\\python38\\site-packages (from triad>=0.6.9->fugue[all]) (2.4.16)\n",
      "Requirement already satisfied: six in c:\\users\\minhv\\appdata\\roaming\\python\\python38\\site-packages (from triad>=0.6.9->fugue[all]) (1.16.0)\n",
      "Requirement already satisfied: partd>=0.3.10 in c:\\users\\minhv\\appdata\\roaming\\python\\python38\\site-packages (from dask[dataframe,distributed]->fugue[all]) (1.3.0)\n",
      "Requirement already satisfied: fsspec>=0.6.0 in c:\\users\\minhv\\appdata\\roaming\\python\\python38\\site-packages (from dask[dataframe,distributed]->fugue[all]) (2022.11.0)\n",
      "Requirement already satisfied: distributed==2022.12.1 in c:\\users\\minhv\\appdata\\roaming\\python\\python38\\site-packages (from dask[dataframe,distributed]->fugue[all]) (2022.12.1)\n",
      "Requirement already satisfied: psutil>=5.0 in c:\\users\\minhv\\appdata\\roaming\\python\\python38\\site-packages (from distributed==2022.12.1->dask[dataframe,distributed]->fugue[all]) (5.9.4)\n",
      "Requirement already satisfied: tornado>=6.0.3 in c:\\users\\minhv\\appdata\\roaming\\python\\python38\\site-packages (from distributed==2022.12.1->dask[dataframe,distributed]->fugue[all]) (6.2)\n",
      "Requirement already satisfied: locket>=1.0.0 in c:\\users\\minhv\\appdata\\roaming\\python\\python38\\site-packages (from distributed==2022.12.1->dask[dataframe,distributed]->fugue[all]) (1.0.0)\n",
      "Requirement already satisfied: tblib>=1.6.0 in c:\\users\\minhv\\appdata\\roaming\\python\\python38\\site-packages (from distributed==2022.12.1->dask[dataframe,distributed]->fugue[all]) (1.7.0)\n",
      "Requirement already satisfied: urllib3 in c:\\users\\minhv\\appdata\\roaming\\python\\python38\\site-packages (from distributed==2022.12.1->dask[dataframe,distributed]->fugue[all]) (1.26.13)\n",
      "Requirement already satisfied: zict>=0.1.3 in c:\\users\\minhv\\appdata\\roaming\\python\\python38\\site-packages (from distributed==2022.12.1->dask[dataframe,distributed]->fugue[all]) (2.2.0)\n",
      "Requirement already satisfied: sortedcontainers!=2.0.0,!=2.0.1 in c:\\users\\minhv\\appdata\\roaming\\python\\python38\\site-packages (from distributed==2022.12.1->dask[dataframe,distributed]->fugue[all]) (2.4.0)\n",
      "Requirement already satisfied: MarkupSafe>=2.0 in c:\\users\\minhv\\appdata\\roaming\\python\\python38\\site-packages (from jinja2->fugue[all]) (2.1.1)\n",
      "Requirement already satisfied: nbclassic in c:\\users\\minhv\\appdata\\roaming\\python\\python38\\site-packages (from jupyterlab->fugue[all]) (0.4.8)\n",
      "Requirement already satisfied: tomli in c:\\users\\minhv\\appdata\\roaming\\python\\python38\\site-packages (from jupyterlab->fugue[all]) (2.0.1)\n",
      "Requirement already satisfied: jupyter-core in c:\\users\\minhv\\appdata\\roaming\\python\\python38\\site-packages (from jupyterlab->fugue[all]) (5.1.0)\n",
      "Requirement already satisfied: jupyter-server<3,>=1.16.0 in c:\\users\\minhv\\appdata\\roaming\\python\\python38\\site-packages (from jupyterlab->fugue[all]) (2.0.5)\n",
      "Requirement already satisfied: jupyterlab-server~=2.10 in c:\\users\\minhv\\appdata\\roaming\\python\\python38\\site-packages (from jupyterlab->fugue[all]) (2.16.6)\n",
      "Requirement already satisfied: Send2Trash>=1.8.0 in c:\\users\\minhv\\appdata\\roaming\\python\\python38\\site-packages (from notebook->fugue[all]) (1.8.0)\n",
      "Requirement already satisfied: ipython-genutils in c:\\users\\minhv\\appdata\\roaming\\python\\python38\\site-packages (from notebook->fugue[all]) (0.2.0)\n",
      "Requirement already satisfied: ipykernel in c:\\users\\minhv\\appdata\\roaming\\python\\python38\\site-packages (from notebook->fugue[all]) (6.19.4)\n",
      "Requirement already satisfied: nbformat in c:\\users\\minhv\\appdata\\roaming\\python\\python38\\site-packages (from notebook->fugue[all]) (5.7.1)\n",
      "Requirement already satisfied: nbconvert>=5 in c:\\users\\minhv\\appdata\\roaming\\python\\python38\\site-packages (from notebook->fugue[all]) (7.2.7)\n",
      "Requirement already satisfied: nest-asyncio>=1.5 in c:\\users\\minhv\\appdata\\roaming\\python\\python38\\site-packages (from notebook->fugue[all]) (1.5.6)\n",
      "Requirement already satisfied: prometheus-client in c:\\users\\minhv\\appdata\\roaming\\python\\python38\\site-packages (from notebook->fugue[all]) (0.15.0)\n",
      "Requirement already satisfied: jupyter-client>=5.3.4 in c:\\users\\minhv\\appdata\\roaming\\python\\python38\\site-packages (from notebook->fugue[all]) (7.4.8)\n",
      "Requirement already satisfied: pyzmq>=17 in c:\\users\\minhv\\appdata\\roaming\\python\\python38\\site-packages (from notebook->fugue[all]) (24.0.1)\n",
      "Requirement already satisfied: terminado>=0.8.3 in c:\\users\\minhv\\appdata\\roaming\\python\\python38\\site-packages (from notebook->fugue[all]) (0.17.1)\n",
      "Requirement already satisfied: argon2-cffi in c:\\users\\minhv\\appdata\\roaming\\python\\python38\\site-packages (from notebook->fugue[all]) (21.3.0)\n",
      "Requirement already satisfied: py4j==0.10.9.5 in c:\\users\\minhv\\appdata\\roaming\\python\\python38\\site-packages (from pyspark->fugue[all]) (0.10.9.5)\n",
      "Requirement already satisfied: parso<0.9.0,>=0.8.0 in c:\\users\\minhv\\appdata\\roaming\\python\\python38\\site-packages (from jedi>=0.16->ipython>=7.10.0->fugue[all]) (0.8.3)\n",
      "Requirement already satisfied: entrypoints in c:\\users\\minhv\\appdata\\roaming\\python\\python38\\site-packages (from jupyter-client>=5.3.4->notebook->fugue[all]) (0.4)\n",
      "Requirement already satisfied: platformdirs>=2.5 in c:\\users\\minhv\\appdata\\roaming\\python\\python38\\site-packages (from jupyter-core->jupyterlab->fugue[all]) (2.6.0)\n",
      "Requirement already satisfied: pywin32>=1.0 in c:\\users\\minhv\\appdata\\roaming\\python\\python38\\site-packages (from jupyter-core->jupyterlab->fugue[all]) (305)\n",
      "Requirement already satisfied: pywinpty in c:\\users\\minhv\\appdata\\roaming\\python\\python38\\site-packages (from jupyter-server<3,>=1.16.0->jupyterlab->fugue[all]) (2.0.9)\n",
      "Requirement already satisfied: anyio<4,>=3.1.0 in c:\\users\\minhv\\appdata\\roaming\\python\\python38\\site-packages (from jupyter-server<3,>=1.16.0->jupyterlab->fugue[all]) (3.6.2)\n",
      "Requirement already satisfied: jupyter-events>=0.4.0 in c:\\users\\minhv\\appdata\\roaming\\python\\python38\\site-packages (from jupyter-server<3,>=1.16.0->jupyterlab->fugue[all]) (0.5.0)\n",
      "Requirement already satisfied: websocket-client in c:\\users\\minhv\\appdata\\roaming\\python\\python38\\site-packages (from jupyter-server<3,>=1.16.0->jupyterlab->fugue[all]) (1.4.2)\n",
      "Requirement already satisfied: jupyter-server-terminals in c:\\users\\minhv\\appdata\\roaming\\python\\python38\\site-packages (from jupyter-server<3,>=1.16.0->jupyterlab->fugue[all]) (0.4.3)\n",
      "Requirement already satisfied: importlib-metadata>=4.8.3 in c:\\users\\minhv\\appdata\\roaming\\python\\python38\\site-packages (from jupyterlab-server~=2.10->jupyterlab->fugue[all]) (5.2.0)\n",
      "Requirement already satisfied: json5>=0.9.0 in c:\\users\\minhv\\appdata\\roaming\\python\\python38\\site-packages (from jupyterlab-server~=2.10->jupyterlab->fugue[all]) (0.9.10)\n",
      "Requirement already satisfied: babel>=2.10 in c:\\users\\minhv\\appdata\\roaming\\python\\python38\\site-packages (from jupyterlab-server~=2.10->jupyterlab->fugue[all]) (2.11.0)\n",
      "Requirement already satisfied: pyrsistent!=0.17.0,!=0.17.1,!=0.17.2,>=0.14.0 in c:\\users\\minhv\\appdata\\roaming\\python\\python38\\site-packages (from jsonschema->ray>=2.0.0->fugue[all]) (0.19.2)\n",
      "Requirement already satisfied: importlib-resources>=1.4.0 in c:\\users\\minhv\\appdata\\roaming\\python\\python38\\site-packages (from jsonschema->ray>=2.0.0->fugue[all]) (5.10.1)\n",
      "Requirement already satisfied: pkgutil-resolve-name>=1.3.10 in c:\\users\\minhv\\appdata\\roaming\\python\\python38\\site-packages (from jsonschema->ray>=2.0.0->fugue[all]) (1.3.10)\n",
      "Requirement already satisfied: notebook-shim>=0.1.0 in c:\\users\\minhv\\appdata\\roaming\\python\\python38\\site-packages (from nbclassic->jupyterlab->fugue[all]) (0.2.2)\n",
      "Requirement already satisfied: nbclient>=0.5.0 in c:\\users\\minhv\\appdata\\roaming\\python\\python38\\site-packages (from nbconvert>=5->notebook->fugue[all]) (0.7.2)\n",
      "Requirement already satisfied: jupyterlab-pygments in c:\\users\\minhv\\appdata\\roaming\\python\\python38\\site-packages (from nbconvert>=5->notebook->fugue[all]) (0.2.2)\n",
      "Requirement already satisfied: beautifulsoup4 in c:\\users\\minhv\\appdata\\roaming\\python\\python38\\site-packages (from nbconvert>=5->notebook->fugue[all]) (4.11.1)\n",
      "Requirement already satisfied: defusedxml in c:\\users\\minhv\\appdata\\roaming\\python\\python38\\site-packages (from nbconvert>=5->notebook->fugue[all]) (0.7.1)\n",
      "Requirement already satisfied: tinycss2 in c:\\users\\minhv\\appdata\\roaming\\python\\python38\\site-packages (from nbconvert>=5->notebook->fugue[all]) (1.2.1)\n",
      "Requirement already satisfied: mistune<3,>=2.0.3 in c:\\users\\minhv\\appdata\\roaming\\python\\python38\\site-packages (from nbconvert>=5->notebook->fugue[all]) (2.0.4)\n",
      "Requirement already satisfied: bleach in c:\\users\\minhv\\appdata\\roaming\\python\\python38\\site-packages (from nbconvert>=5->notebook->fugue[all]) (5.0.1)\n",
      "Requirement already satisfied: pandocfilters>=1.4.1 in c:\\users\\minhv\\appdata\\roaming\\python\\python38\\site-packages (from nbconvert>=5->notebook->fugue[all]) (1.5.0)\n",
      "Requirement already satisfied: fastjsonschema in c:\\users\\minhv\\appdata\\roaming\\python\\python38\\site-packages (from nbformat->notebook->fugue[all]) (2.16.2)\n",
      "Requirement already satisfied: pyparsing!=3.0.5,>=2.0.2 in c:\\users\\minhv\\appdata\\roaming\\python\\python38\\site-packages (from packaging<22,>=21.3->ibis-framework>=3.2.0->fugue[all]) (3.0.9)\n",
      "Requirement already satisfied: wcwidth in c:\\users\\minhv\\appdata\\roaming\\python\\python38\\site-packages (from prompt-toolkit<3.1.0,>=3.0.11->ipython>=7.10.0->fugue[all]) (0.2.5)\n",
      "Requirement already satisfied: typing-extensions>=4.1.0 in c:\\users\\minhv\\appdata\\roaming\\python\\python38\\site-packages (from pydantic<2,>=1.9.0->ibis-framework>=3.2.0->fugue[all]) (4.4.0)\n",
      "Requirement already satisfied: charset-normalizer<3,>=2 in c:\\users\\minhv\\appdata\\roaming\\python\\python38\\site-packages (from requests->ray>=2.0.0->fugue[all]) (2.1.1)\n",
      "Requirement already satisfied: certifi>=2017.4.17 in c:\\users\\minhv\\appdata\\roaming\\python\\python38\\site-packages (from requests->ray>=2.0.0->fugue[all]) (2022.12.7)\n",
      "Requirement already satisfied: idna<4,>=2.5 in c:\\users\\minhv\\appdata\\roaming\\python\\python38\\site-packages (from requests->ray>=2.0.0->fugue[all]) (3.4)\n",
      "Requirement already satisfied: commonmark<0.10.0,>=0.9.0 in c:\\users\\minhv\\appdata\\roaming\\python\\python38\\site-packages (from rich<13,>=12.4.4->ibis-framework>=3.2.0->fugue[all]) (0.9.1)\n",
      "Requirement already satisfied: distlib<1,>=0.3.6 in c:\\users\\minhv\\appdata\\roaming\\python\\python38\\site-packages (from virtualenv>=20.0.24->ray>=2.0.0->fugue[all]) (0.3.6)\n",
      "Requirement already satisfied: argon2-cffi-bindings in c:\\users\\minhv\\appdata\\roaming\\python\\python38\\site-packages (from argon2-cffi->notebook->fugue[all]) (21.2.0)\n",
      "Requirement already satisfied: appdirs~=1.4.3 in c:\\users\\minhv\\appdata\\roaming\\python\\python38\\site-packages (from fs->triad>=0.6.9->fugue[all]) (1.4.4)\n",
      "Requirement already satisfied: setuptools in c:\\program files\\python38\\lib\\site-packages (from fs->triad>=0.6.9->fugue[all]) (41.2.0)\n",
      "Requirement already satisfied: debugpy>=1.0 in c:\\users\\minhv\\appdata\\roaming\\python\\python38\\site-packages (from ipykernel->notebook->fugue[all]) (1.6.4)\n",
      "Requirement already satisfied: comm>=0.1.1 in c:\\users\\minhv\\appdata\\roaming\\python\\python38\\site-packages (from ipykernel->notebook->fugue[all]) (0.1.2)\n",
      "Requirement already satisfied: asttokens>=2.1.0 in c:\\users\\minhv\\appdata\\roaming\\python\\python38\\site-packages (from stack-data->ipython>=7.10.0->fugue[all]) (2.2.1)\n",
      "Requirement already satisfied: pure-eval in c:\\users\\minhv\\appdata\\roaming\\python\\python38\\site-packages (from stack-data->ipython>=7.10.0->fugue[all]) (0.2.2)\n",
      "Requirement already satisfied: executing>=1.2.0 in c:\\users\\minhv\\appdata\\roaming\\python\\python38\\site-packages (from stack-data->ipython>=7.10.0->fugue[all]) (1.2.0)\n",
      "Requirement already satisfied: sniffio>=1.1 in c:\\users\\minhv\\appdata\\roaming\\python\\python38\\site-packages (from anyio<4,>=3.1.0->jupyter-server<3,>=1.16.0->jupyterlab->fugue[all]) (1.3.0)\n",
      "Requirement already satisfied: zipp>=0.5 in c:\\users\\minhv\\appdata\\roaming\\python\\python38\\site-packages (from importlib-metadata>=4.8.3->jupyterlab-server~=2.10->jupyterlab->fugue[all]) (3.11.0)\n",
      "Requirement already satisfied: python-json-logger in c:\\users\\minhv\\appdata\\roaming\\python\\python38\\site-packages (from jupyter-events>=0.4.0->jupyter-server<3,>=1.16.0->jupyterlab->fugue[all]) (2.0.4)\n",
      "Requirement already satisfied: heapdict in c:\\users\\minhv\\appdata\\roaming\\python\\python38\\site-packages (from zict>=0.1.3->distributed==2022.12.1->dask[dataframe,distributed]->fugue[all]) (1.0.1)\n",
      "Requirement already satisfied: cffi>=1.0.1 in c:\\users\\minhv\\appdata\\roaming\\python\\python38\\site-packages (from argon2-cffi-bindings->argon2-cffi->notebook->fugue[all]) (1.15.1)\n",
      "Requirement already satisfied: soupsieve>1.2 in c:\\users\\minhv\\appdata\\roaming\\python\\python38\\site-packages (from beautifulsoup4->nbconvert>=5->notebook->fugue[all]) (2.3.2.post1)\n",
      "Requirement already satisfied: webencodings in c:\\users\\minhv\\appdata\\roaming\\python\\python38\\site-packages (from bleach->nbconvert>=5->notebook->fugue[all]) (0.5.1)\n",
      "Requirement already satisfied: pycparser in c:\\users\\minhv\\appdata\\roaming\\python\\python38\\site-packages (from cffi>=1.0.1->argon2-cffi-bindings->argon2-cffi->notebook->fugue[all]) (2.21)\n",
      "Requirement already satisfied: rfc3339-validator in c:\\users\\minhv\\appdata\\roaming\\python\\python38\\site-packages (from jsonschema->ray>=2.0.0->fugue[all]) (0.1.4)\n",
      "Requirement already satisfied: isoduration in c:\\users\\minhv\\appdata\\roaming\\python\\python38\\site-packages (from jsonschema->ray>=2.0.0->fugue[all]) (20.11.0)\n",
      "Requirement already satisfied: jsonpointer>1.13 in c:\\users\\minhv\\appdata\\roaming\\python\\python38\\site-packages (from jsonschema->ray>=2.0.0->fugue[all]) (2.3)\n",
      "Requirement already satisfied: rfc3986-validator>0.1.0 in c:\\users\\minhv\\appdata\\roaming\\python\\python38\\site-packages (from jsonschema->ray>=2.0.0->fugue[all]) (0.1.1)\n",
      "Requirement already satisfied: uri-template in c:\\users\\minhv\\appdata\\roaming\\python\\python38\\site-packages (from jsonschema->ray>=2.0.0->fugue[all]) (1.2.0)\n",
      "Requirement already satisfied: fqdn in c:\\users\\minhv\\appdata\\roaming\\python\\python38\\site-packages (from jsonschema->ray>=2.0.0->fugue[all]) (1.5.1)\n",
      "Requirement already satisfied: webcolors>=1.11 in c:\\users\\minhv\\appdata\\roaming\\python\\python38\\site-packages (from jsonschema->ray>=2.0.0->fugue[all]) (1.12)\n",
      "Requirement already satisfied: arrow>=0.15.0 in c:\\users\\minhv\\appdata\\roaming\\python\\python38\\site-packages (from isoduration->jsonschema->ray>=2.0.0->fugue[all]) (1.2.3)\n",
      "Note: you may need to restart the kernel to use updated packages.\n"
     ]
    }
   ],
   "source": [
    "pip install fugue[all] "
   ]
  },
  {
   "cell_type": "code",
   "execution_count": 5,
   "metadata": {},
   "outputs": [
    {
     "data": {
      "application/javascript": "\nrequire([\"codemirror/lib/codemirror\"]);\nfunction set(str) {\n    var obj = {}, words = str.split(\" \");\n    for (var i = 0; i < words.length; ++i) obj[words[i]] = true;\n    return obj;\n  }\nvar fugue_keywords = \"fill hash rand even presort persist broadcast params process output outtransform rowcount concurrency prepartition zip print title save append parquet csv json single checkpoint weak strong deterministic yield connect sample seed take sub callback dataframe file\";\nCodeMirror.defineMIME(\"text/x-fsql\", {\n    name: \"sql\",\n    keywords: set(fugue_keywords + \" add after all alter analyze and anti archive array as asc at between bucket buckets by cache cascade case cast change clear cluster clustered codegen collection column columns comment commit compact compactions compute concatenate cost create cross cube current current_date current_timestamp database databases data dbproperties defined delete delimited deny desc describe dfs directories distinct distribute drop else end escaped except exchange exists explain export extended external false fields fileformat first following for format formatted from full function functions global grant group grouping having if ignore import in index indexes inner inpath inputformat insert intersect interval into is items join keys last lateral lazy left like limit lines list load local location lock locks logical macro map minus msck natural no not null nulls of on optimize option options or order out outer outputformat over overwrite partition partitioned partitions percent preceding principals purge range recordreader recordwriter recover reduce refresh regexp rename repair replace reset restrict revoke right rlike role roles rollback rollup row rows schema schemas select semi separated serde serdeproperties set sets show skewed sort sorted start statistics stored stratify struct table tables tablesample tblproperties temp temporary terminated then to touch transaction transactions transform true truncate unarchive unbounded uncache union unlock unset use using values view when where window with\"),\n    builtin: set(\"date datetime tinyint smallint int bigint boolean float double string binary timestamp decimal array map struct uniontype delimited serde sequencefile textfile rcfile inputformat outputformat\"),\n    atoms: set(\"false true null\"),\n    operatorChars: /^[*\\/+\\-%<>!=~&|^]/,\n    dateSQL: set(\"time\"),\n    support: set(\"ODBCdotTable doubleQuote zerolessFloat\")\n  });\n\nCodeMirror.modeInfo.push( {\n            name: \"Fugue SQL\",\n            mime: \"text/x-fsql\",\n            mode: \"sql\"\n          } );\n\nrequire(['notebook/js/codecell'], function(codecell) {\n    codecell.CodeCell.options_default.highlight_modes['magic_text/x-fsql'] = {'reg':[/%%fsql/]} ;\n    Jupyter.notebook.events.on('kernel_ready.Kernel', function(){\n    Jupyter.notebook.get_cells().map(function(cell){\n        if (cell.cell_type == 'code'){ cell.auto_highlight(); } }) ;\n    });\n  });\n",
      "text/plain": [
       "<IPython.core.display.Javascript object>"
      ]
     },
     "metadata": {},
     "output_type": "display_data"
    }
   ],
   "source": [
    "from fugue_notebook import setup\n",
    "setup()"
   ]
  },
  {
   "cell_type": "code",
   "execution_count": 7,
   "metadata": {},
   "outputs": [
    {
     "data": {
      "text/html": [
       "<div>\n",
       "<style scoped>\n",
       "    .dataframe tbody tr th:only-of-type {\n",
       "        vertical-align: middle;\n",
       "    }\n",
       "\n",
       "    .dataframe tbody tr th {\n",
       "        vertical-align: top;\n",
       "    }\n",
       "\n",
       "    .dataframe thead th {\n",
       "        text-align: right;\n",
       "    }\n",
       "</style>\n",
       "<table border=\"1\" class=\"dataframe\">\n",
       "  <thead>\n",
       "    <tr style=\"text-align: right;\">\n",
       "      <th></th>\n",
       "      <th>col1</th>\n",
       "      <th>col2</th>\n",
       "    </tr>\n",
       "  </thead>\n",
       "  <tbody>\n",
       "    <tr>\n",
       "      <th>0</th>\n",
       "      <td>1</td>\n",
       "      <td>a</td>\n",
       "    </tr>\n",
       "    <tr>\n",
       "      <th>1</th>\n",
       "      <td>3</td>\n",
       "      <td>a</td>\n",
       "    </tr>\n",
       "    <tr>\n",
       "      <th>2</th>\n",
       "      <td>4</td>\n",
       "      <td>a</td>\n",
       "    </tr>\n",
       "  </tbody>\n",
       "</table>\n",
       "</div>"
      ],
      "text/plain": [
       "   col1 col2\n",
       "0     1    a\n",
       "1     3    a\n",
       "2     4    a"
      ]
     },
     "metadata": {},
     "output_type": "display_data"
    },
    {
     "data": {
      "text/html": [
       "<small>schema: col1:long,col2:str</small>"
      ],
      "text/plain": [
       "<IPython.core.display.HTML object>"
      ]
     },
     "metadata": {},
     "output_type": "display_data"
    }
   ],
   "source": [
    "%%fsql\n",
    "SELECT *\n",
    "FROM df\n",
    "WHERE col2=\"a\"\n",
    "PRINT"
   ]
  },
  {
   "cell_type": "code",
   "execution_count": 9,
   "metadata": {},
   "outputs": [],
   "source": [
    "%%fsql\n",
    "\n",
    "df2 = SELECT *\n",
    "FROM df\n",
    "WHERE col2 =\"a\"\n",
    "\n",
    "SAVE df2 OVERWRITE 'C:/Users/minhv/OneDrive/Documents/VS_Code_Source/df2.csv' (header=true)"
   ]
  },
  {
   "cell_type": "code",
   "execution_count": 10,
   "metadata": {},
   "outputs": [
    {
     "data": {
      "text/html": [
       "<div>\n",
       "<style scoped>\n",
       "    .dataframe tbody tr th:only-of-type {\n",
       "        vertical-align: middle;\n",
       "    }\n",
       "\n",
       "    .dataframe tbody tr th {\n",
       "        vertical-align: top;\n",
       "    }\n",
       "\n",
       "    .dataframe thead th {\n",
       "        text-align: right;\n",
       "    }\n",
       "</style>\n",
       "<table border=\"1\" class=\"dataframe\">\n",
       "  <thead>\n",
       "    <tr style=\"text-align: right;\">\n",
       "      <th></th>\n",
       "      <th>col1</th>\n",
       "      <th>col2</th>\n",
       "    </tr>\n",
       "  </thead>\n",
       "  <tbody>\n",
       "    <tr>\n",
       "      <th>0</th>\n",
       "      <td>1</td>\n",
       "      <td>a</td>\n",
       "    </tr>\n",
       "    <tr>\n",
       "      <th>1</th>\n",
       "      <td>3</td>\n",
       "      <td>a</td>\n",
       "    </tr>\n",
       "    <tr>\n",
       "      <th>2</th>\n",
       "      <td>4</td>\n",
       "      <td>a</td>\n",
       "    </tr>\n",
       "  </tbody>\n",
       "</table>\n",
       "</div>"
      ],
      "text/plain": [
       "  col1 col2\n",
       "0    1    a\n",
       "1    3    a\n",
       "2    4    a"
      ]
     },
     "metadata": {},
     "output_type": "display_data"
    },
    {
     "data": {
      "text/html": [
       "<small>schema: col1:str,col2:str</small>"
      ],
      "text/plain": [
       "<IPython.core.display.HTML object>"
      ]
     },
     "metadata": {},
     "output_type": "display_data"
    }
   ],
   "source": [
    "%%fsql\n",
    "\n",
    "df3 = LOAD 'C:/Users/minhv/OneDrive/Documents/VS_Code_Source/df2.csv' (header=true)\n",
    "\n",
    "SELECT *\n",
    "FROM df3\n",
    "PRINT"
   ]
  },
  {
   "cell_type": "code",
   "execution_count": 11,
   "metadata": {},
   "outputs": [
    {
     "data": {
      "text/html": [
       "<div>\n",
       "<style scoped>\n",
       "    .dataframe tbody tr th:only-of-type {\n",
       "        vertical-align: middle;\n",
       "    }\n",
       "\n",
       "    .dataframe tbody tr th {\n",
       "        vertical-align: top;\n",
       "    }\n",
       "\n",
       "    .dataframe thead th {\n",
       "        text-align: right;\n",
       "    }\n",
       "</style>\n",
       "<table border=\"1\" class=\"dataframe\">\n",
       "  <thead>\n",
       "    <tr style=\"text-align: right;\">\n",
       "      <th></th>\n",
       "      <th>col1</th>\n",
       "    </tr>\n",
       "  </thead>\n",
       "  <tbody>\n",
       "    <tr>\n",
       "      <th>0</th>\n",
       "      <td>1</td>\n",
       "    </tr>\n",
       "    <tr>\n",
       "      <th>1</th>\n",
       "      <td>2</td>\n",
       "    </tr>\n",
       "    <tr>\n",
       "      <th>2</th>\n",
       "      <td>3</td>\n",
       "    </tr>\n",
       "    <tr>\n",
       "      <th>3</th>\n",
       "      <td>4</td>\n",
       "    </tr>\n",
       "  </tbody>\n",
       "</table>\n",
       "</div>"
      ],
      "text/plain": [
       "   col1\n",
       "0     1\n",
       "1     2\n",
       "2     3\n",
       "3     4"
      ]
     },
     "metadata": {},
     "output_type": "display_data"
    },
    {
     "data": {
      "text/html": [
       "<small>schema: col1:long</small>"
      ],
      "text/plain": [
       "<IPython.core.display.HTML object>"
      ]
     },
     "metadata": {},
     "output_type": "display_data"
    }
   ],
   "source": [
    "%%fsql\n",
    "\n",
    "df4 = DROP COLUMNS col2 IF EXISTS FROM df\n",
    "PRINT df4"
   ]
  },
  {
   "cell_type": "code",
   "execution_count": 5,
   "metadata": {},
   "outputs": [],
   "source": [
    "import numpy as np\n",
    "\n",
    "#null_df = pd.DataFrame({\"col1\": [np.nan, np.nan, 1], \"col2\": [2, 3, np.nan]})"
   ]
  },
  {
   "cell_type": "code",
   "execution_count": 13,
   "metadata": {},
   "outputs": [
    {
     "data": {
      "text/html": [
       "<div>\n",
       "<style scoped>\n",
       "    .dataframe tbody tr th:only-of-type {\n",
       "        vertical-align: middle;\n",
       "    }\n",
       "\n",
       "    .dataframe tbody tr th {\n",
       "        vertical-align: top;\n",
       "    }\n",
       "\n",
       "    .dataframe thead th {\n",
       "        text-align: right;\n",
       "    }\n",
       "</style>\n",
       "<table border=\"1\" class=\"dataframe\">\n",
       "  <thead>\n",
       "    <tr style=\"text-align: right;\">\n",
       "      <th></th>\n",
       "      <th>col1</th>\n",
       "      <th>col2</th>\n",
       "    </tr>\n",
       "  </thead>\n",
       "  <tbody>\n",
       "    <tr>\n",
       "      <th>0</th>\n",
       "      <td>1.0</td>\n",
       "      <td>2.0</td>\n",
       "    </tr>\n",
       "    <tr>\n",
       "      <th>1</th>\n",
       "      <td>1.0</td>\n",
       "      <td>3.0</td>\n",
       "    </tr>\n",
       "    <tr>\n",
       "      <th>2</th>\n",
       "      <td>1.0</td>\n",
       "      <td>2.0</td>\n",
       "    </tr>\n",
       "  </tbody>\n",
       "</table>\n",
       "</div>"
      ],
      "text/plain": [
       "   col1  col2\n",
       "0   1.0   2.0\n",
       "1   1.0   3.0\n",
       "2   1.0   2.0"
      ]
     },
     "metadata": {},
     "output_type": "display_data"
    },
    {
     "data": {
      "text/html": [
       "<small>schema: col1:double,col2:double</small>"
      ],
      "text/plain": [
       "<IPython.core.display.HTML object>"
      ]
     },
     "metadata": {},
     "output_type": "display_data"
    }
   ],
   "source": [
    "%%fsql\n",
    "\n",
    "df1 = FILL NULLS PARAMS col1: 1, col2:2 FROM null_df\n",
    "PRINT df1"
   ]
  },
  {
   "cell_type": "code",
   "execution_count": 14,
   "metadata": {},
   "outputs": [
    {
     "data": {
      "text/html": [
       "<div>\n",
       "<style scoped>\n",
       "    .dataframe tbody tr th:only-of-type {\n",
       "        vertical-align: middle;\n",
       "    }\n",
       "\n",
       "    .dataframe tbody tr th {\n",
       "        vertical-align: top;\n",
       "    }\n",
       "\n",
       "    .dataframe thead th {\n",
       "        text-align: right;\n",
       "    }\n",
       "</style>\n",
       "<table border=\"1\" class=\"dataframe\">\n",
       "  <thead>\n",
       "    <tr style=\"text-align: right;\">\n",
       "      <th></th>\n",
       "      <th>col1</th>\n",
       "      <th>col2</th>\n",
       "    </tr>\n",
       "  </thead>\n",
       "  <tbody>\n",
       "    <tr>\n",
       "      <th>0</th>\n",
       "      <td>2</td>\n",
       "      <td>b</td>\n",
       "    </tr>\n",
       "    <tr>\n",
       "      <th>1</th>\n",
       "      <td>4</td>\n",
       "      <td>a</td>\n",
       "    </tr>\n",
       "  </tbody>\n",
       "</table>\n",
       "</div>"
      ],
      "text/plain": [
       "   col1 col2\n",
       "0     2    b\n",
       "1     4    a"
      ]
     },
     "metadata": {},
     "output_type": "display_data"
    },
    {
     "data": {
      "text/html": [
       "<small>schema: col1:long,col2:str</small>"
      ],
      "text/plain": [
       "<IPython.core.display.HTML object>"
      ]
     },
     "metadata": {},
     "output_type": "display_data"
    },
    {
     "data": {
      "text/html": [
       "<div>\n",
       "<style scoped>\n",
       "    .dataframe tbody tr th:only-of-type {\n",
       "        vertical-align: middle;\n",
       "    }\n",
       "\n",
       "    .dataframe tbody tr th {\n",
       "        vertical-align: top;\n",
       "    }\n",
       "\n",
       "    .dataframe thead th {\n",
       "        text-align: right;\n",
       "    }\n",
       "</style>\n",
       "<table border=\"1\" class=\"dataframe\">\n",
       "  <thead>\n",
       "    <tr style=\"text-align: right;\">\n",
       "      <th></th>\n",
       "      <th>col1</th>\n",
       "      <th>col2</th>\n",
       "    </tr>\n",
       "  </thead>\n",
       "  <tbody>\n",
       "    <tr>\n",
       "      <th>0</th>\n",
       "      <td>4</td>\n",
       "      <td>a</td>\n",
       "    </tr>\n",
       "    <tr>\n",
       "      <th>1</th>\n",
       "      <td>3</td>\n",
       "      <td>a</td>\n",
       "    </tr>\n",
       "  </tbody>\n",
       "</table>\n",
       "</div>"
      ],
      "text/plain": [
       "   col1 col2\n",
       "0     4    a\n",
       "1     3    a"
      ]
     },
     "metadata": {},
     "output_type": "display_data"
    },
    {
     "data": {
      "text/html": [
       "<small>schema: col1:long,col2:str</small>"
      ],
      "text/plain": [
       "<IPython.core.display.HTML object>"
      ]
     },
     "metadata": {},
     "output_type": "display_data"
    }
   ],
   "source": [
    "%%fsql\n",
    "df2 = SAMPLE 2 ROWS SEED 42 FROM df\n",
    "PRINT df2\n",
    "df3 = SAMPLE 50 PERCENT SEED 1 FROM df\n",
    "PRINT df3"
   ]
  },
  {
   "cell_type": "code",
   "execution_count": 34,
   "metadata": {},
   "outputs": [],
   "source": [
    "# schema: *\n",
    "def str_concat(df: pd.DataFrame, delimeter: str) -> pd.DataFrame:\n",
    "    df = df.assign(col3 = df[\"col1\"].astype(str) + delimeter + df[\"col2\"])\n",
    "\n",
    "    return df"
   ]
  },
  {
   "cell_type": "code",
   "execution_count": 21,
   "metadata": {},
   "outputs": [
    {
     "data": {
      "text/html": [
       "<div>\n",
       "<style scoped>\n",
       "    .dataframe tbody tr th:only-of-type {\n",
       "        vertical-align: middle;\n",
       "    }\n",
       "\n",
       "    .dataframe tbody tr th {\n",
       "        vertical-align: top;\n",
       "    }\n",
       "\n",
       "    .dataframe thead th {\n",
       "        text-align: right;\n",
       "    }\n",
       "</style>\n",
       "<table border=\"1\" class=\"dataframe\">\n",
       "  <thead>\n",
       "    <tr style=\"text-align: right;\">\n",
       "      <th></th>\n",
       "      <th>col1</th>\n",
       "      <th>col2</th>\n",
       "      <th>col3</th>\n",
       "    </tr>\n",
       "  </thead>\n",
       "  <tbody>\n",
       "    <tr>\n",
       "      <th>0</th>\n",
       "      <td>1</td>\n",
       "      <td>a</td>\n",
       "      <td>1_a</td>\n",
       "    </tr>\n",
       "    <tr>\n",
       "      <th>1</th>\n",
       "      <td>2</td>\n",
       "      <td>b</td>\n",
       "      <td>2_b</td>\n",
       "    </tr>\n",
       "    <tr>\n",
       "      <th>2</th>\n",
       "      <td>3</td>\n",
       "      <td>a</td>\n",
       "      <td>3_a</td>\n",
       "    </tr>\n",
       "    <tr>\n",
       "      <th>3</th>\n",
       "      <td>4</td>\n",
       "      <td>a</td>\n",
       "      <td>4_a</td>\n",
       "    </tr>\n",
       "  </tbody>\n",
       "</table>\n",
       "</div>"
      ],
      "text/plain": [
       "   col1 col2 col3\n",
       "0     1    a  1_a\n",
       "1     2    b  2_b\n",
       "2     3    a  3_a\n",
       "3     4    a  4_a"
      ]
     },
     "metadata": {},
     "output_type": "display_data"
    },
    {
     "data": {
      "text/html": [
       "<small>schema: col1:long,col2:str,col3:str</small>"
      ],
      "text/plain": [
       "<IPython.core.display.HTML object>"
      ]
     },
     "metadata": {},
     "output_type": "display_data"
    }
   ],
   "source": [
    "%%fsql\n",
    "SELECT * \n",
    "FROM df\n",
    "TRANSFORM USING str_concat(delimeter=\"_\")\n",
    "PRINT"
   ]
  },
  {
   "cell_type": "code",
   "execution_count": null,
   "metadata": {},
   "outputs": [],
   "source": [
    "%%fsql spark\n",
    "SELECT *\n",
    "FROM df\n",
    "TRANSFORM USING str_concat(delimeter=\"_\")\n",
    "PRINT"
   ]
  },
  {
   "cell_type": "code",
   "execution_count": 40,
   "metadata": {},
   "outputs": [
    {
     "data": {
      "text/html": [
       "<div>\n",
       "<style scoped>\n",
       "    .dataframe tbody tr th:only-of-type {\n",
       "        vertical-align: middle;\n",
       "    }\n",
       "\n",
       "    .dataframe tbody tr th {\n",
       "        vertical-align: top;\n",
       "    }\n",
       "\n",
       "    .dataframe thead th {\n",
       "        text-align: right;\n",
       "    }\n",
       "</style>\n",
       "<table border=\"1\" class=\"dataframe\">\n",
       "  <thead>\n",
       "    <tr style=\"text-align: right;\">\n",
       "      <th></th>\n",
       "      <th>col2</th>\n",
       "      <th>avg_col1</th>\n",
       "    </tr>\n",
       "  </thead>\n",
       "  <tbody>\n",
       "    <tr>\n",
       "      <th>0</th>\n",
       "      <td>a</td>\n",
       "      <td>2.666667</td>\n",
       "    </tr>\n",
       "    <tr>\n",
       "      <th>1</th>\n",
       "      <td>b</td>\n",
       "      <td>2.000000</td>\n",
       "    </tr>\n",
       "  </tbody>\n",
       "</table>\n",
       "</div>"
      ],
      "text/plain": [
       "  col2  avg_col1\n",
       "0    a  2.666667\n",
       "1    b  2.000000"
      ]
     },
     "metadata": {},
     "output_type": "display_data"
    },
    {
     "data": {
      "text/html": [
       "<small>schema: col2:str,avg_col1:double</small>"
      ],
      "text/plain": [
       "<IPython.core.display.HTML object>"
      ]
     },
     "metadata": {},
     "output_type": "display_data"
    }
   ],
   "source": [
    "%%fsql\n",
    "\n",
    "SELECT col2, AVG(col1) AS avg_col1\n",
    "FROM df\n",
    "GROUP BY col2\n",
    "PRINT"
   ]
  },
  {
   "cell_type": "code",
   "execution_count": 41,
   "metadata": {},
   "outputs": [],
   "source": [
    "# schema: *, col3:str\n",
    "def str_concat(df: pd.DataFrame, delimeter: str) -> pd.DataFrame:\n",
    "    df = df.assign(col3=df[\"col1\"].astype(str) + delimeter + df[\"col2\"])\n",
    "    return df"
   ]
  },
  {
   "cell_type": "code",
   "execution_count": null,
   "metadata": {},
   "outputs": [],
   "source": [
    "pip install -U fugue[duckdb,sql] "
   ]
  },
  {
   "cell_type": "code",
   "execution_count": 15,
   "metadata": {},
   "outputs": [
    {
     "data": {
      "application/javascript": "\nrequire([\"codemirror/lib/codemirror\"]);\nfunction set(str) {\n    var obj = {}, words = str.split(\" \");\n    for (var i = 0; i < words.length; ++i) obj[words[i]] = true;\n    return obj;\n  }\nvar fugue_keywords = \"fill hash rand even presort persist broadcast params process output outtransform rowcount concurrency prepartition zip print title save append parquet csv json single checkpoint weak strong deterministic yield connect sample seed take sub callback dataframe file\";\nCodeMirror.defineMIME(\"text/x-fsql\", {\n    name: \"sql\",\n    keywords: set(fugue_keywords + \" add after all alter analyze and anti archive array as asc at between bucket buckets by cache cascade case cast change clear cluster clustered codegen collection column columns comment commit compact compactions compute concatenate cost create cross cube current current_date current_timestamp database databases data dbproperties defined delete delimited deny desc describe dfs directories distinct distribute drop else end escaped except exchange exists explain export extended external false fields fileformat first following for format formatted from full function functions global grant group grouping having if ignore import in index indexes inner inpath inputformat insert intersect interval into is items join keys last lateral lazy left like limit lines list load local location lock locks logical macro map minus msck natural no not null nulls of on optimize option options or order out outer outputformat over overwrite partition partitioned partitions percent preceding principals purge range recordreader recordwriter recover reduce refresh regexp rename repair replace reset restrict revoke right rlike role roles rollback rollup row rows schema schemas select semi separated serde serdeproperties set sets show skewed sort sorted start statistics stored stratify struct table tables tablesample tblproperties temp temporary terminated then to touch transaction transactions transform true truncate unarchive unbounded uncache union unlock unset use using values view when where window with\"),\n    builtin: set(\"date datetime tinyint smallint int bigint boolean float double string binary timestamp decimal array map struct uniontype delimited serde sequencefile textfile rcfile inputformat outputformat\"),\n    atoms: set(\"false true null\"),\n    operatorChars: /^[*\\/+\\-%<>!=~&|^]/,\n    dateSQL: set(\"time\"),\n    support: set(\"ODBCdotTable doubleQuote zerolessFloat\")\n  });\n\nCodeMirror.modeInfo.push( {\n            name: \"Fugue SQL\",\n            mime: \"text/x-fsql\",\n            mode: \"sql\"\n          } );\n\nrequire(['notebook/js/codecell'], function(codecell) {\n    codecell.CodeCell.options_default.highlight_modes['magic_text/x-fsql'] = {'reg':[/%%fsql/]} ;\n    Jupyter.notebook.events.on('kernel_ready.Kernel', function(){\n    Jupyter.notebook.get_cells().map(function(cell){\n        if (cell.cell_type == 'code'){ cell.auto_highlight(); } }) ;\n    });\n  });\n",
      "text/plain": [
       "<IPython.core.display.Javascript object>"
      ]
     },
     "metadata": {},
     "output_type": "display_data"
    }
   ],
   "source": [
    "from fugue_notebook import setup\n",
    "import fugue_duckdb\n",
    "\n",
    "setup()"
   ]
  },
  {
   "cell_type": "code",
   "execution_count": 29,
   "metadata": {},
   "outputs": [],
   "source": [
    "import os\n",
    "\n",
    "save_path = 'C:/Users/minhv/PycharmProjects/pythonProject/b1_2_hor_SPlet_abnormal_2560_distribution.npy'"
   ]
  },
  {
   "cell_type": "code",
   "execution_count": null,
   "metadata": {},
   "outputs": [],
   "source": [
    "df = pd.read_parquet(save_path)\n",
    "df"
   ]
  },
  {
   "cell_type": "code",
   "execution_count": null,
   "metadata": {},
   "outputs": [],
   "source": [
    "%%fsql duck\n",
    "LOAD '{{save_path}}'\n",
    "PRINT"
   ]
  },
  {
   "cell_type": "code",
   "execution_count": 18,
   "metadata": {},
   "outputs": [
    {
     "data": {
      "text/html": [
       "<div>\n",
       "<style scoped>\n",
       "    .dataframe tbody tr th:only-of-type {\n",
       "        vertical-align: middle;\n",
       "    }\n",
       "\n",
       "    .dataframe tbody tr th {\n",
       "        vertical-align: top;\n",
       "    }\n",
       "\n",
       "    .dataframe thead th {\n",
       "        text-align: right;\n",
       "    }\n",
       "</style>\n",
       "<table border=\"1\" class=\"dataframe\">\n",
       "  <thead>\n",
       "    <tr style=\"text-align: right;\">\n",
       "      <th></th>\n",
       "      <th>symbol</th>\n",
       "      <th>trades</th>\n",
       "    </tr>\n",
       "  </thead>\n",
       "  <tbody>\n",
       "    <tr>\n",
       "      <th>0</th>\n",
       "      <td>ETHUSDT</td>\n",
       "      <td>121244.543046</td>\n",
       "    </tr>\n",
       "    <tr>\n",
       "      <th>1</th>\n",
       "      <td>NEOUSDT</td>\n",
       "      <td>50575.265152</td>\n",
       "    </tr>\n",
       "    <tr>\n",
       "      <th>2</th>\n",
       "      <td>BCCUSDT</td>\n",
       "      <td>17865.539007</td>\n",
       "    </tr>\n",
       "  </tbody>\n",
       "</table>\n",
       "</div>"
      ],
      "text/plain": [
       "    symbol         trades\n",
       "0  ETHUSDT  121244.543046\n",
       "1  NEOUSDT   50575.265152\n",
       "2  BCCUSDT   17865.539007"
      ]
     },
     "metadata": {},
     "output_type": "display_data"
    },
    {
     "data": {
      "text/html": [
       "<small>schema: symbol:str,trades:double</small>"
      ],
      "text/plain": [
       "<IPython.core.display.HTML object>"
      ]
     },
     "metadata": {},
     "output_type": "display_data"
    }
   ],
   "source": [
    "%%fsql duck\n",
    "\n",
    "-- Load data\n",
    "LOAD '{{save_path}}'\n",
    "\n",
    "-- Filter\n",
    "SELECT * WHERE symbol LIKE '%USDT'\n",
    "\n",
    "-- Get total trades by symbol and date\n",
    "SELECT\n",
    "    symbol,\n",
    "    date_trunc('day', time) AS date,\n",
    "    SUM(Number_of_trades) AS trades\n",
    "GROUP BY 1,2\n",
    "\n",
    "-- Get symbols with largest average trades\n",
    "SELECT \n",
    "    symbol,\n",
    "    AVG(trades) AS trades\n",
    "GROUP BY 1\n",
    "LIMIT 3\n",
    "\n",
    "-- Save and print output\n",
    "YIELD DATAFRAME AS top_symbols\n",
    "PRINT"
   ]
  },
  {
   "cell_type": "code",
   "execution_count": 19,
   "metadata": {},
   "outputs": [
    {
     "data": {
      "text/html": [
       "<div>\n",
       "<style scoped>\n",
       "    .dataframe tbody tr th:only-of-type {\n",
       "        vertical-align: middle;\n",
       "    }\n",
       "\n",
       "    .dataframe tbody tr th {\n",
       "        vertical-align: top;\n",
       "    }\n",
       "\n",
       "    .dataframe thead th {\n",
       "        text-align: right;\n",
       "    }\n",
       "</style>\n",
       "<table border=\"1\" class=\"dataframe\">\n",
       "  <thead>\n",
       "    <tr style=\"text-align: right;\">\n",
       "      <th></th>\n",
       "      <th>symbol</th>\n",
       "      <th>trades</th>\n",
       "    </tr>\n",
       "  </thead>\n",
       "  <tbody>\n",
       "    <tr>\n",
       "      <th>0</th>\n",
       "      <td>ETHUSDT</td>\n",
       "      <td>121244.543046</td>\n",
       "    </tr>\n",
       "    <tr>\n",
       "      <th>1</th>\n",
       "      <td>NEOUSDT</td>\n",
       "      <td>50575.265152</td>\n",
       "    </tr>\n",
       "    <tr>\n",
       "      <th>2</th>\n",
       "      <td>BCCUSDT</td>\n",
       "      <td>17865.539007</td>\n",
       "    </tr>\n",
       "  </tbody>\n",
       "</table>\n",
       "</div>"
      ],
      "text/plain": [
       "    symbol         trades\n",
       "0  ETHUSDT  121244.543046\n",
       "1  NEOUSDT   50575.265152\n",
       "2  BCCUSDT   17865.539007"
      ]
     },
     "execution_count": 19,
     "metadata": {},
     "output_type": "execute_result"
    }
   ],
   "source": [
    "top_symbols.as_pandas()"
   ]
  },
  {
   "cell_type": "code",
   "execution_count": 20,
   "metadata": {},
   "outputs": [
    {
     "data": {
      "text/html": [
       "<div>\n",
       "<style scoped>\n",
       "    .dataframe tbody tr th:only-of-type {\n",
       "        vertical-align: middle;\n",
       "    }\n",
       "\n",
       "    .dataframe tbody tr th {\n",
       "        vertical-align: top;\n",
       "    }\n",
       "\n",
       "    .dataframe thead th {\n",
       "        text-align: right;\n",
       "    }\n",
       "</style>\n",
       "<table border=\"1\" class=\"dataframe\">\n",
       "  <thead>\n",
       "    <tr style=\"text-align: right;\">\n",
       "      <th></th>\n",
       "      <th>symbol</th>\n",
       "      <th>trades</th>\n",
       "    </tr>\n",
       "  </thead>\n",
       "  <tbody>\n",
       "    <tr>\n",
       "      <th>0</th>\n",
       "      <td>ETHUSDT</td>\n",
       "      <td>121244.543046</td>\n",
       "    </tr>\n",
       "    <tr>\n",
       "      <th>1</th>\n",
       "      <td>NEOUSDT</td>\n",
       "      <td>50575.265152</td>\n",
       "    </tr>\n",
       "    <tr>\n",
       "      <th>2</th>\n",
       "      <td>BCCUSDT</td>\n",
       "      <td>17865.539007</td>\n",
       "    </tr>\n",
       "  </tbody>\n",
       "</table>\n",
       "</div>"
      ],
      "text/plain": [
       "    symbol         trades\n",
       "0  ETHUSDT  121244.543046\n",
       "1  NEOUSDT   50575.265152\n",
       "2  BCCUSDT   17865.539007"
      ]
     },
     "metadata": {},
     "output_type": "display_data"
    },
    {
     "data": {
      "text/html": [
       "<small>schema: symbol:str,trades:double</small>"
      ],
      "text/plain": [
       "<IPython.core.display.HTML object>"
      ]
     },
     "metadata": {},
     "output_type": "display_data"
    }
   ],
   "source": [
    "%%fsql duck\n",
    "SELECT *\n",
    "FROM top_symbols\n",
    "PRINT"
   ]
  },
  {
   "cell_type": "code",
   "execution_count": 21,
   "metadata": {},
   "outputs": [],
   "source": [
    " %%fsql duck\n",
    " src = LOAD \"{{save_path}}\"\n",
    "\n",
    " SELECT src.*\n",
    " FROM src\n",
    " INNER JOIN top_symbols\n",
    " ON src.symbol = top_symbols.symbol\n",
    " YIELD DATAFRAME AS top_data"
   ]
  },
  {
   "cell_type": "code",
   "execution_count": 12,
   "metadata": {},
   "outputs": [],
   "source": [
    "def plot_by(df: pd.DataFrame, by, y) -> None:\n",
    "    for name, group in df.groupby(by):\n",
    "        group.plot(x=\"time\", y= y, title=name)"
   ]
  },
  {
   "cell_type": "code",
   "execution_count": 22,
   "metadata": {},
   "outputs": [
    {
     "data": {
      "image/png": "[encoded data removed]",
      "text/plain": [
       "<Figure size 640x480 with 1 Axes>"
      ]
     },
     "metadata": {},
     "output_type": "display_data"
    },
    {
     "data": {
      "image/png": "[encoded data removed]",
      "text/plain": [
       "<Figure size 640x480 with 1 Axes>"
      ]
     },
     "metadata": {},
     "output_type": "display_data"
    },
    {
     "data": {
      "image/png": "[encoded data removed]",
      "text/plain": [
       "<Figure size 640x480 with 1 Axes>"
      ]
     },
     "metadata": {},
     "output_type": "display_data"
    }
   ],
   "source": [
    "%%fsql duck\n",
    "SELECT * FROM top_data\n",
    "SAMPLE 1 PERCENT SEED 0\n",
    "SELECT * ORDER BY time\n",
    "OUTPUT USING plot_by(by=\"symbol\", y=\"Close\")"
   ]
  },
  {
   "cell_type": "code",
   "execution_count": 8,
   "metadata": {},
   "outputs": [],
   "source": [
    "# schema: *, macd:double\n",
    "def macd(df:pd.DataFrame) -> pd.DataFrame:\n",
    "    \"\"\"get macd - the indicator of the trend of the timeseries\"\"\"\n",
    "\n",
    "    import pandas_ta\n",
    "    macd = df.ta.macd(close='close', fast=12, slow=26, signal=9)\n",
    "    return df.assign(macd=macd.iloc[:,2])"
   ]
  },
  {
   "cell_type": "code",
   "execution_count": null,
   "metadata": {},
   "outputs": [],
   "source": [
    "pip install pandas-ta"
   ]
  },
  {
   "cell_type": "code",
   "execution_count": null,
   "metadata": {},
   "outputs": [],
   "source": [
    "%%fsql duck\n",
    "SELECT\n",
    "    symbol,\n",
    "    date_trunc('day', time) AS time,\n",
    "    min_by(Open, time) AS open,\n",
    "    MAX(High) AS high,\n",
    "    MIN(Low) AS low,\n",
    "    max_by(Close, time) AS close,\n",
    "    SUM(Number_of_trades) AS trades,\n",
    "    SUM(Volume) AS volume\n",
    "FROM top_data\n",
    "GROUP BY 1, 2\n",
    "\n",
    "-- Group by symbol and sort by time \n",
    "-- Then use the macd function defined earlier\n",
    "TRANSFORM PREPARTITION BY symbol PRESORT time\n",
    "USING macd\n",
    "\n",
    "-- Plot the macd plots\n",
    "SELECT * ORDER BY time\n",
    "OUTPUT USING plot_by(by='symbol', y=\"macd\")"
   ]
  },
  {
   "cell_type": "code",
   "execution_count": null,
   "metadata": {},
   "outputs": [],
   "source": [
    "from fugue_sql import fsql\n",
    "\n",
    "fsql(\n",
    "    \"\"\" src = LOAD \"{{save_path}}\"\n",
    "        SELECT * WHERE symbol LIKE '%USDT'\n",
    "        SELECT symbol, date_trunc('day',time) AS date, SUM(Number_of_trades) AS trades GROUP BY 1,2\n",
    "        top_symbols = SELECT symbol, AVG(trades) AS trades GROUP BY 1 ORDER BY 2 DESC LIMIT 4\n",
    "        \n",
    "        SELECT src.* FROM src INNER JOIN top_symbols ON src.symbol = top_symbols.symbol\n",
    "\n",
    "        SELECT\n",
    "            symbol,\n",
    "            date_trunc('day', time) AS time,\n",
    "            min_by(Open, time) AS open,\n",
    "            MAX(High) AS high,\n",
    "            MIN(Low) AS low,\n",
    "            max_by(Close, time) AS close,\n",
    "            SUM(Number_of_trades) AS trades,\n",
    "            SUM(Volume) AS volume\n",
    "        GROUP BY 1, 2\n",
    "\n",
    "        TRANSFORM PREPARTITION BY symbol PRESORT time\n",
    "        USING macd\n",
    "\n",
    "        SELECT * ORDER BY time\n",
    "        OUTPUT USING plot_by(by='symbol', y=\"macd\")\"\"\"\n",
    "    ).run(\"duck\")"
   ]
  },
  {
   "attachments": {},
   "cell_type": "markdown",
   "metadata": {},
   "source": [
    "# MapReduce\n",
    "\n",
    "The MapReduce programming technique was designed to analyze massive data sets across a cluster. In this Jupyter notebook, you'll get a sense for how Hadoop MapReduce works; however, this notebook will run locally rather than on a cluster.\n",
    "\n",
    "The biggest difference between Hadoop and Spark is that Spark tries to do as many calculations as possible in memory, which avoids moving data back and forth across a cluster. Hadoop writes intermediate calculations out to disk, which can be less efficient. Hadoop is an older technology than Spark and one of the cornerstone big data technologies.\n",
    "\n",
    "If you click on the Jupyter notebook logo at the top of the workspace, you'll be taken to the workspace directory. There you will see a file called \"songplays.txt\". This is a text file where each line represents a song that was played in the Sparkify app. The MapReduce code will count how many times each song was played. In other words, the code counts how many times the song title appears in the list.\n",
    "\n",
    "\n",
    "# MapReduce versus Hadoop MapReduce\n",
    "\n",
    "Don't get confused by the terminology! MapReduce is a programming technique. Hadoop MapReduce is a specific implementation of the programming technique.\n",
    "\n",
    "Some of the syntax will look a bit funny, so be sure to read the explanation and comments for each section. You'll learn more about the syntax in later lessons. \n",
    "\n",
    "Run each of the code cells below to see the output."
   ]
  },
  {
   "cell_type": "code",
   "execution_count": 1,
   "metadata": {},
   "outputs": [
    {
     "name": "stdout",
     "output_type": "stream",
     "text": [
      "Defaulting to user installation because normal site-packages is not writeable\n",
      "Collecting mrjob\n",
      "  Downloading mrjob-0.7.4-py2.py3-none-any.whl (439 kB)\n",
      "     -------------------------------------- 439.6/439.6 kB 6.8 MB/s eta 0:00:00\n",
      "Requirement already satisfied: PyYAML>=3.10 in c:\\users\\minhv\\appdata\\roaming\\python\\python38\\site-packages (from mrjob) (6.0)\n",
      "Installing collected packages: mrjob\n",
      "Successfully installed mrjob-0.7.4\n",
      "Note: you may need to restart the kernel to use updated packages.\n"
     ]
    }
   ],
   "source": [
    "pip install mrjob"
   ]
  },
  {
   "cell_type": "code",
   "execution_count": 1,
   "metadata": {},
   "outputs": [
    {
     "name": "stdout",
     "output_type": "stream",
     "text": [
      "Writing wordcount.py\n"
     ]
    }
   ],
   "source": [
    "%%file wordcount.py\n",
    "# %%file is an Ipython magic function that saves the code cell as a file\n",
    "from mrjob.job import MRJob\n",
    "\n",
    "class MRSongCount(MRJob):\n",
    "    # The map step: each line in the txt file is read as a key, value pair\n",
    "    # in this case, each line in the txt file only contraints a value but no key\n",
    "    # _ means that in this case, there is no key for each line\n",
    "    def mapper(self, _, song):\n",
    "        # output each line as a tuple of (song_names, 1)\n",
    "        yield (song, 1)\n",
    "    \n",
    "    # the reduce step: combine all tuples with the same key\n",
    "    # in this case, the key is the song name\n",
    "    # then sum all the values of the tuple, which will give the total song plays.\n",
    "    def reducer(self, key, values):\n",
    "        yield (key, sum(values))\n",
    "\n",
    "if __name__ == \"__main__\":\n",
    "    MRSongCount.run()"
   ]
  },
  {
   "cell_type": "code",
   "execution_count": 3,
   "metadata": {},
   "outputs": [
    {
     "name": "stdout",
     "output_type": "stream",
     "text": [
      "c:\\Users\\minhv\\AppData\\Local\\Programs\\Microsoft VS Code\n"
     ]
    }
   ],
   "source": [
    "import os\n",
    "print(os.getcwd())"
   ]
  },
  {
   "cell_type": "code",
   "execution_count": 4,
   "metadata": {},
   "outputs": [
    {
     "name": "stdout",
     "output_type": "stream",
     "text": [
      "\"Broken Networks\"\t510\n",
      "\"Data House Rock\"\t828\n",
      "\"Deep Dreams\"\t1131\n"
     ]
    },
    {
     "name": "stderr",
     "output_type": "stream",
     "text": [
      "No configs found; falling back on auto-configuration\n",
      "No configs specified for inline runner\n",
      "Creating temp directory C:\\Users\\minhv\\AppData\\Local\\Temp\\wordcount.minhv.20221226.073752.599048\n",
      "Running step 1 of 1...\n",
      "job output is in C:\\Users\\minhv\\AppData\\Local\\Temp\\wordcount.minhv.20221226.073752.599048\\output\n",
      "Streaming final output from C:\\Users\\minhv\\AppData\\Local\\Temp\\wordcount.minhv.20221226.073752.599048\\output...\n",
      "Removing temp directory C:\\Users\\minhv\\AppData\\Local\\Temp\\wordcount.minhv.20221226.073752.599048...\n"
     ]
    }
   ],
   "source": [
    "! python wordcount.py songplays.txt"
   ]
  },
  {
   "attachments": {},
   "cell_type": "markdown",
   "metadata": {},
   "source": [
    "Jupyter Notebook\n",
    "mapreduce_practice\n",
    "Last Checkpoint: 20/11/2018\n",
    "(autosaved)\n",
    "Current Kernel Logo\n",
    "Python 3 \n",
    "File\n",
    "Edit\n",
    "View\n",
    "Insert\n",
    "Cell\n",
    "Kernel\n",
    "Widgets\n",
    "Help\n",
    "\n",
    "Markdown\n",
    "# MapReduce\n",
    "\n",
    "The MapReduce programming technique was designed to analyze massive data sets across a cluster. In this Jupyter notebook, you'll get a sense for how Hadoop MapReduce works; however, this notebook will run locally rather than on a cluster.\n",
    "\n",
    "The biggest difference between Hadoop and Spark is that Spark tries to do as many calculations as possible in memory, which avoids moving data back and forth across a cluster. Hadoop writes intermediate calculations out to disk, which can be less efficient. Hadoop is an older technology than Spark and one of the cornerstone big data technologies.\n",
    "\n",
    "If you click on the Jupyter notebook logo at the top of the workspace, you'll be taken to the workspace directory. There you will see a file called \"songplays.txt\". This is a text file where each line represents a song that was played in the Sparkify app. The MapReduce code will count how many times each song was played. In other words, the code counts how many times the song title appears in the list.\n",
    "\n",
    "\n",
    "# MapReduce versus Hadoop MapReduce\n",
    "\n",
    "Don't get confused by the terminology! MapReduce is a programming technique. Hadoop MapReduce is a specific implementation of the programming technique.\n",
    "\n",
    "Some of the syntax will look a bit funny, so be sure to read the explanation and comments for each section. You'll learn more about the syntax in later lessons. \n",
    "\n",
    "Run each of the code cells below to see the output.\n",
    "# MapReduce\n",
    "​\n",
    "The MapReduce programming technique was designed to analyze massive data sets across a cluster. In this Jupyter notebook, you'll get a sense for how Hadoop MapReduce works; however, this notebook will run locally rather than on a cluster.\n",
    "​\n",
    "The biggest difference between Hadoop and Spark is that Spark tries to do as many calculations as possible in memory, which avoids moving data back and forth across a cluster. Hadoop writes intermediate calculations out to disk, which can be less efficient. Hadoop is an older technology than Spark and one of the cornerstone big data technologies.\n",
    "​\n",
    "If you click on the Jupyter notebook logo at the top of the workspace, you'll be taken to the workspace directory. There you will see a file called \"songplays.txt\". This is a text file where each line represents a song that was played in the Sparkify app. The MapReduce code will count how many times each song was played. In other words, the code counts how many times the song title appears in the list.\n",
    "​\n",
    "​\n",
    "# MapReduce versus Hadoop MapReduce\n",
    "​\n",
    "Don't get confused by the terminology! MapReduce is a programming technique. Hadoop MapReduce is a specific implementation of the programming technique.\n",
    "​\n",
    "Some of the syntax will look a bit funny, so be sure to read the explanation and comments for each section. You'll learn more about the syntax in later lessons. \n",
    "​\n",
    "Run each of the code cells below to see the output.\n",
    "​\n",
    "# Install mrjob library. This package is for running MapReduce jobs with Python\n",
    "# In Jupyter notebooks, \"!\" runs terminal commands from inside notebooks \n",
    "​\n",
    "! pip install mrjob\n",
    "Collecting mrjob\n",
    "  Downloading https://files.pythonhosted.org/packages/8e/58/fc28ab743aba16e90736ad4e29694bd2adaf7b879376ff149306d50c4e90/mrjob-0.7.4-py2.py3-none-any.whl (439kB)\n",
    "    100% |████████████████████████████████| 440kB 9.8MB/s eta 0:00:01\n",
    "Requirement already satisfied: PyYAML>=3.10 in /opt/conda/lib/python3.6/site-packages (from mrjob) (3.12)\n",
    "Installing collected packages: mrjob\n",
    "Successfully installed mrjob-0.7.4\n",
    "%%file wordcount.py\n",
    "# %%file is an Ipython magic function that saves the code cell as a file\n",
    "​\n",
    "from mrjob.job import MRJob # import the mrjob library\n",
    "​\n",
    "class MRSongCount(MRJob):\n",
    "    \n",
    "    # the map step: each line in the txt file is read as a key, value pair\n",
    "    # in this case, each line in the txt file only contains a value but no key\n",
    "    # _ means that in this case, there is no key for each line\n",
    "    def mapper(self, _, song):\n",
    "        # output each line as a tuple of (song_names, 1) \n",
    "        yield (song, 1)\n",
    "​\n",
    "    # the reduce step: combine all tuples with the same key\n",
    "    # in this case, the key is the song name\n",
    "    # then sum all the values of the tuple, which will give the total song plays\n",
    "    def reducer(self, key, values):\n",
    "        yield (key, sum(values))\n",
    "        \n",
    "if __name__ == \"__main__\":\n",
    "    MRSongCount.run()\n",
    "Overwriting wordcount.py\n",
    "# run the code as a terminal command\n",
    "! python wordcount.py songplays.txt\n",
    "No configs found; falling back on auto-configuration\n",
    "No configs specified for inline runner\n",
    "Creating temp directory /tmp/wordcount.root.20220102.004337.534627\n",
    "Running step 1 of 1...\n",
    "job output is in /tmp/wordcount.root.20220102.004337.534627/output\n",
    "Streaming final output from /tmp/wordcount.root.20220102.004337.534627/output...\n",
    "\"Broken Networks\"\t510\n",
    "\"Data House Rock\"\t828\n",
    "\"Deep Dreams\"\t1131\n",
    "Removing temp directory /tmp/wordcount.root.20220102.004337.534627...\n",
    "# Summary of what happens in the code.\n",
    "​\n",
    "There is a list of songs in songplays.txt that looks like the following:\n",
    "​\n",
    "Deep Dreams\n",
    "Data House Rock\n",
    "Deep Dreams\n",
    "Data House Rock\n",
    "Broken Networks\n",
    "Data House Rock\n",
    "etc.....\n",
    "​\n",
    "During the map step, the code reads in the txt file one line at a time. The map steps outputs a set of tuples that look like this:\n",
    "​\n",
    "(Deep Dreams, 1)  \n",
    "(Data House Rock, 1)  \n",
    "(Deep Dreams, 1)  \n",
    "(Data House Rock, 1)  \n",
    "(Broken Networks, 1)  \n",
    "(Data House Rock, 1)  \n",
    "etc.....\n",
    "​\n",
    "Finally, the reduce step combines all of the values by keys and sums the values:  \n",
    "​\n",
    "(Deep Dreams, \\[1, 1, 1, 1, 1, 1, ... \\])  \n",
    "(Data House Rock, \\[1, 1, 1, 1, 1, 1, 1, 1, 1, 1, 1, ...\\])  \n",
    "(Broken Networks, \\[1, 1, 1, ...\\]  \n",
    "​\n",
    "With the output \n",
    "​\n",
    "(Deep Dreams, 1131)  \n",
    "(Data House Rock, 510)  \n",
    "(Broken Networks, 828)  \n",
    "​\n"
   ]
  },
  {
   "cell_type": "code",
   "execution_count": null,
   "metadata": {},
   "outputs": [],
   "source": []
  },
  {
   "attachments": {},
   "cell_type": "markdown",
   "metadata": {},
   "source": [
    "# Maps\n",
    "\n",
    "In Spark, maps take data as input and then transform that data with whatever function you put in the map. They are like directions for the data telling how each input should get to the output.\n",
    "\n",
    "The first code cell creates a SparkContext object. With the SparkContext, you can input a dataset and parallelize the data across a cluster (since you are currently using Spark in local mode on a single machine, technically the dataset isn't distributed yet).\n",
    "\n",
    "Run the code cell below to instantiate a SparkContext object and then read in the log_of_songs list into Spark. "
   ]
  },
  {
   "cell_type": "code",
   "execution_count": 1,
   "metadata": {},
   "outputs": [],
   "source": [
    "import pyspark"
   ]
  },
  {
   "cell_type": "code",
   "execution_count": 2,
   "metadata": {},
   "outputs": [],
   "source": [
    "sc = pyspark.SparkContext(appName=\"maps_and_lazy_evaluation_example\")\n",
    "\n",
    "log_of_songs = [\n",
    "    \"Despacito\",\n",
    "    \"Nice for what\",\n",
    "    \"No tears left to cry\",\n",
    "    \"Despacito\",\n",
    "    \"Havana\",\n",
    "    \"In my feelings\",\n",
    "    \"Nice for what\",\n",
    "    \"despacito\",\n",
    "    \"All the stars\"\n",
    "]\n",
    "\n",
    "# parallelize the log_of_songs to use with Spark\n",
    "distributed_song_log = sc.parallelize(log_of_songs)"
   ]
  },
  {
   "attachments": {},
   "cell_type": "markdown",
   "metadata": {},
   "source": [
    "This next code cell defines a function that converts a song title to lowercase. Then there is an example converting the word \"Havana\" to \"havana\"."
   ]
  },
  {
   "cell_type": "code",
   "execution_count": 3,
   "metadata": {},
   "outputs": [
    {
     "data": {
      "text/plain": [
       "'havana'"
      ]
     },
     "execution_count": 3,
     "metadata": {},
     "output_type": "execute_result"
    }
   ],
   "source": [
    "def convert_song_to_lowercase(song):\n",
    "    return song.lower()\n",
    "\n",
    "convert_song_to_lowercase(\"Havana\")"
   ]
  },
  {
   "attachments": {},
   "cell_type": "markdown",
   "metadata": {},
   "source": [
    "The following code cells demonstrate how to apply this function using a map step. The map step will go through each song in the list and apply the convert_song_to_lowercase() function. "
   ]
  },
  {
   "cell_type": "code",
   "execution_count": 9,
   "metadata": {},
   "outputs": [
    {
     "data": {
      "text/plain": [
       "PythonRDD[1] at RDD at PythonRDD.scala:53"
      ]
     },
     "execution_count": 9,
     "metadata": {},
     "output_type": "execute_result"
    }
   ],
   "source": [
    "distributed_song_log.map(convert_song_to_lowercase)"
   ]
  },
  {
   "attachments": {},
   "cell_type": "markdown",
   "metadata": {},
   "source": [
    "You'll notice that this code cell ran quite quickly. This is because of lazy evaluation. Spark does not actually execute the map step unless it needs to.\n",
    "\n",
    "\"RDD\" in the output refers to resilient distributed dataset. RDDs are exactly what they say they are: fault-tolerant datasets distributed across a cluster. This is how Spark stores data. \n",
    "\n",
    "To get Spark to actually run the map step, you need to use an \"action\". One available action is the collect method. The collect() method takes the results from all of the clusters and \"collects\" them into a single list on the master node."
   ]
  },
  {
   "cell_type": "code",
   "execution_count": null,
   "metadata": {},
   "outputs": [],
   "source": [
    "distributed_song_log.map(convert_song_to_lowercase).collect()"
   ]
  },
  {
   "attachments": {},
   "cell_type": "markdown",
   "metadata": {},
   "source": [
    "Note as well that Spark is not changing the original data set: Spark is merely making a copy. You can see this by running collect() on the original dataset."
   ]
  },
  {
   "cell_type": "code",
   "execution_count": 5,
   "metadata": {},
   "outputs": [
    {
     "data": {
      "text/plain": [
       "['Despacito',\n",
       " 'Nice for what',\n",
       " 'No tears left to cry',\n",
       " 'Despacito',\n",
       " 'Havana',\n",
       " 'In my feelings',\n",
       " 'Nice for what',\n",
       " 'despacito',\n",
       " 'All the stars']"
      ]
     },
     "execution_count": 5,
     "metadata": {},
     "output_type": "execute_result"
    }
   ],
   "source": [
    "distributed_song_log.collect()"
   ]
  },
  {
   "attachments": {},
   "cell_type": "markdown",
   "metadata": {},
   "source": [
    "You do not always have to write a custom function for the map step. You can also use anonymous (lambda) functions as well as built-in Python functions like string.lower(). \n",
    "\n",
    "Anonymous functions are actually a Python feature for writing functional style programs."
   ]
  },
  {
   "cell_type": "code",
   "execution_count": null,
   "metadata": {},
   "outputs": [],
   "source": [
    "distributed_song_log.map(lambda song: song.lower()).collect()"
   ]
  },
  {
   "cell_type": "code",
   "execution_count": null,
   "metadata": {},
   "outputs": [],
   "source": [
    "distributed_song_log.map(lambda x: x.lower()).collect()"
   ]
  },
  {
   "cell_type": "code",
   "execution_count": 8,
   "metadata": {},
   "outputs": [],
   "source": [
    "import pyspark\n",
    "from pyspark import SparkConf\n",
    "from pyspark.sql import SparkSession"
   ]
  },
  {
   "attachments": {},
   "cell_type": "markdown",
   "metadata": {},
   "source": [
    "Since we're using Spark locally we already have both a sparkcontext and a sparksession running. We can update some of the parameters, such our application's name. Let's just call it \"Our first Python Spark SQL example\""
   ]
  },
  {
   "cell_type": "code",
   "execution_count": 12,
   "metadata": {},
   "outputs": [],
   "source": [
    "spark = SparkSession \\\n",
    "    .builder \\\n",
    "    .appName(\"Our first Python Spark SQL example\") \\\n",
    "    .getOrCreate()"
   ]
  },
  {
   "attachments": {},
   "cell_type": "markdown",
   "metadata": {},
   "source": [
    "Let's check if the change went through"
   ]
  },
  {
   "cell_type": "code",
   "execution_count": 13,
   "metadata": {},
   "outputs": [
    {
     "data": {
      "text/plain": [
       "[('spark.driver.extraJavaOptions',\n",
       "  '-XX:+IgnoreUnrecognizedVMOptions --add-opens=java.base/java.lang=ALL-UNNAMED --add-opens=java.base/java.lang.invoke=ALL-UNNAMED --add-opens=java.base/java.lang.reflect=ALL-UNNAMED --add-opens=java.base/java.io=ALL-UNNAMED --add-opens=java.base/java.net=ALL-UNNAMED --add-opens=java.base/java.nio=ALL-UNNAMED --add-opens=java.base/java.util=ALL-UNNAMED --add-opens=java.base/java.util.concurrent=ALL-UNNAMED --add-opens=java.base/java.util.concurrent.atomic=ALL-UNNAMED --add-opens=java.base/sun.nio.ch=ALL-UNNAMED --add-opens=java.base/sun.nio.cs=ALL-UNNAMED --add-opens=java.base/sun.security.action=ALL-UNNAMED --add-opens=java.base/sun.util.calendar=ALL-UNNAMED --add-opens=java.security.jgss/sun.security.krb5=ALL-UNNAMED'),\n",
       " ('spark.driver.port', '63179'),\n",
       " ('spark.driver.host', 'LuciferMorning'),\n",
       " ('spark.app.id', 'local-1672043157246'),\n",
       " ('spark.executor.id', 'driver'),\n",
       " ('spark.app.name', 'maps_and_lazy_evaluation_example'),\n",
       " ('spark.app.submitTime', '1672043156311'),\n",
       " ('spark.app.startTime', '1672043156400'),\n",
       " ('spark.sql.warehouse.dir',\n",
       "  'file:/C:/Users/minhv/AppData/Local/Programs/Microsoft%20VS%20Code/spark-warehouse'),\n",
       " ('spark.rdd.compress', 'True'),\n",
       " ('spark.executor.extraJavaOptions',\n",
       "  '-XX:+IgnoreUnrecognizedVMOptions --add-opens=java.base/java.lang=ALL-UNNAMED --add-opens=java.base/java.lang.invoke=ALL-UNNAMED --add-opens=java.base/java.lang.reflect=ALL-UNNAMED --add-opens=java.base/java.io=ALL-UNNAMED --add-opens=java.base/java.net=ALL-UNNAMED --add-opens=java.base/java.nio=ALL-UNNAMED --add-opens=java.base/java.util=ALL-UNNAMED --add-opens=java.base/java.util.concurrent=ALL-UNNAMED --add-opens=java.base/java.util.concurrent.atomic=ALL-UNNAMED --add-opens=java.base/sun.nio.ch=ALL-UNNAMED --add-opens=java.base/sun.nio.cs=ALL-UNNAMED --add-opens=java.base/sun.security.action=ALL-UNNAMED --add-opens=java.base/sun.util.calendar=ALL-UNNAMED --add-opens=java.security.jgss/sun.security.krb5=ALL-UNNAMED'),\n",
       " ('spark.serializer.objectStreamReset', '100'),\n",
       " ('spark.master', 'local[*]'),\n",
       " ('spark.submit.pyFiles', ''),\n",
       " ('spark.submit.deployMode', 'client'),\n",
       " ('spark.ui.showConsoleProgress', 'true')]"
      ]
     },
     "execution_count": 13,
     "metadata": {},
     "output_type": "execute_result"
    }
   ],
   "source": [
    "spark.sparkContext.getConf().getAll()"
   ]
  },
  {
   "cell_type": "code",
   "execution_count": 14,
   "metadata": {},
   "outputs": [
    {
     "data": {
      "text/html": [
       "\n",
       "            <div>\n",
       "                <p><b>SparkSession - in-memory</b></p>\n",
       "                \n",
       "        <div>\n",
       "            <p><b>SparkContext</b></p>\n",
       "\n",
       "            <p><a href=\"http://LuciferMorning:4040\">Spark UI</a></p>\n",
       "\n",
       "            <dl>\n",
       "              <dt>Version</dt>\n",
       "                <dd><code>v3.3.1</code></dd>\n",
       "              <dt>Master</dt>\n",
       "                <dd><code>local[*]</code></dd>\n",
       "              <dt>AppName</dt>\n",
       "                <dd><code>maps_and_lazy_evaluation_example</code></dd>\n",
       "            </dl>\n",
       "        </div>\n",
       "        \n",
       "            </div>\n",
       "        "
      ],
      "text/plain": [
       "<pyspark.sql.session.SparkSession at 0x244690801f0>"
      ]
     },
     "execution_count": 14,
     "metadata": {},
     "output_type": "execute_result"
    }
   ],
   "source": [
    "spark"
   ]
  },
  {
   "attachments": {},
   "cell_type": "markdown",
   "metadata": {},
   "source": [
    "As you can see the app name is exactly how we set it\n",
    "\n",
    "Let's create our first dataframe from a fairly small sample data set. Througout the course we'll work with a log file data set that describes user interactions with a music streaming service. The records describe events such as logging in to the site, visiting a page, listening to the next song, seeing an ad."
   ]
  },
  {
   "cell_type": "code",
   "execution_count": 17,
   "metadata": {},
   "outputs": [
    {
     "data": {
      "text/plain": [
       "'c:\\\\Users\\\\minhv\\\\AppData\\\\Local\\\\Programs\\\\Microsoft VS Code'"
      ]
     },
     "execution_count": 17,
     "metadata": {},
     "output_type": "execute_result"
    }
   ],
   "source": [
    "import os\n",
    "os.getcwd()"
   ]
  },
  {
   "cell_type": "code",
   "execution_count": 18,
   "metadata": {},
   "outputs": [],
   "source": [
    "path = \"sparkify_log_small.json\"\n",
    "user_log = spark.read.json(path)"
   ]
  },
  {
   "cell_type": "code",
   "execution_count": 19,
   "metadata": {},
   "outputs": [
    {
     "data": {
      "text/plain": [
       "DataFrame[artist: string, auth: string, firstName: string, gender: string, itemInSession: bigint, lastName: string, length: double, level: string, location: string, method: string, page: string, registration: bigint, sessionId: bigint, song: string, status: bigint, ts: bigint, userAgent: string, userId: string]"
      ]
     },
     "execution_count": 19,
     "metadata": {},
     "output_type": "execute_result"
    }
   ],
   "source": [
    "user_log"
   ]
  },
  {
   "cell_type": "code",
   "execution_count": 20,
   "metadata": {},
   "outputs": [
    {
     "name": "stdout",
     "output_type": "stream",
     "text": [
      "root\n",
      " |-- artist: string (nullable = true)\n",
      " |-- auth: string (nullable = true)\n",
      " |-- firstName: string (nullable = true)\n",
      " |-- gender: string (nullable = true)\n",
      " |-- itemInSession: long (nullable = true)\n",
      " |-- lastName: string (nullable = true)\n",
      " |-- length: double (nullable = true)\n",
      " |-- level: string (nullable = true)\n",
      " |-- location: string (nullable = true)\n",
      " |-- method: string (nullable = true)\n",
      " |-- page: string (nullable = true)\n",
      " |-- registration: long (nullable = true)\n",
      " |-- sessionId: long (nullable = true)\n",
      " |-- song: string (nullable = true)\n",
      " |-- status: long (nullable = true)\n",
      " |-- ts: long (nullable = true)\n",
      " |-- userAgent: string (nullable = true)\n",
      " |-- userId: string (nullable = true)\n",
      "\n"
     ]
    }
   ],
   "source": [
    "user_log.printSchema()"
   ]
  },
  {
   "cell_type": "code",
   "execution_count": 21,
   "metadata": {},
   "outputs": [
    {
     "data": {
      "text/plain": [
       "DataFrame[summary: string, artist: string, auth: string, firstName: string, gender: string, itemInSession: string, lastName: string, length: string, level: string, location: string, method: string, page: string, registration: string, sessionId: string, song: string, status: string, ts: string, userAgent: string, userId: string]"
      ]
     },
     "execution_count": 21,
     "metadata": {},
     "output_type": "execute_result"
    }
   ],
   "source": [
    "user_log.describe()"
   ]
  },
  {
   "cell_type": "code",
   "execution_count": 22,
   "metadata": {},
   "outputs": [
    {
     "name": "stdout",
     "output_type": "stream",
     "text": [
      "+-------------+---------+---------+------+-------------+--------+---------+-----+--------------------+------+--------+-------------+---------+--------------------+------+-------------+--------------------+------+\n",
      "|       artist|     auth|firstName|gender|itemInSession|lastName|   length|level|            location|method|    page| registration|sessionId|                song|status|           ts|           userAgent|userId|\n",
      "+-------------+---------+---------+------+-------------+--------+---------+-----+--------------------+------+--------+-------------+---------+--------------------+------+-------------+--------------------+------+\n",
      "|Showaddywaddy|Logged In|  Kenneth|     M|          112|Matthews|232.93342| paid|Charlotte-Concord...|   PUT|NextSong|1509380319284|     5132|Christmas Tears W...|   200|1513720872284|\"Mozilla/5.0 (Win...|  1046|\n",
      "+-------------+---------+---------+------+-------------+--------+---------+-----+--------------------+------+--------+-------------+---------+--------------------+------+-------------+--------------------+------+\n",
      "only showing top 1 row\n",
      "\n"
     ]
    }
   ],
   "source": [
    "user_log.show(n=1)"
   ]
  },
  {
   "cell_type": "code",
   "execution_count": 23,
   "metadata": {},
   "outputs": [
    {
     "data": {
      "text/plain": [
       "[Row(artist='Showaddywaddy', auth='Logged In', firstName='Kenneth', gender='M', itemInSession=112, lastName='Matthews', length=232.93342, level='paid', location='Charlotte-Concord-Gastonia, NC-SC', method='PUT', page='NextSong', registration=1509380319284, sessionId=5132, song='Christmas Tears Will Fall', status=200, ts=1513720872284, userAgent='\"Mozilla/5.0 (Windows NT 6.1) AppleWebKit/537.36 (KHTML, like Gecko) Chrome/36.0.1985.125 Safari/537.36\"', userId='1046'),\n",
       " Row(artist='Lily Allen', auth='Logged In', firstName='Elizabeth', gender='F', itemInSession=7, lastName='Chase', length=195.23873, level='free', location='Shreveport-Bossier City, LA', method='PUT', page='NextSong', registration=1512718541284, sessionId=5027, song='Cheryl Tweedy', status=200, ts=1513720878284, userAgent='\"Mozilla/5.0 (Windows NT 6.1) AppleWebKit/537.36 (KHTML, like Gecko) Chrome/36.0.1985.143 Safari/537.36\"', userId='1000'),\n",
       " Row(artist='Cobra Starship Featuring Leighton Meester', auth='Logged In', firstName='Vera', gender='F', itemInSession=6, lastName='Blackwell', length=196.20526, level='paid', location='Racine, WI', method='PUT', page='NextSong', registration=1499855749284, sessionId=5516, song='Good Girls Go Bad (Feat.Leighton Meester) (Album Version)', status=200, ts=1513720881284, userAgent='\"Mozilla/5.0 (Macintosh; Intel Mac OS X 10_9_4) AppleWebKit/537.78.2 (KHTML, like Gecko) Version/7.0.6 Safari/537.78.2\"', userId='2219'),\n",
       " Row(artist='Alex Smoke', auth='Logged In', firstName='Sophee', gender='F', itemInSession=8, lastName='Barker', length=405.99465, level='paid', location='San Luis Obispo-Paso Robles-Arroyo Grande, CA', method='PUT', page='NextSong', registration=1513009647284, sessionId=2372, song=\"Don't See The Point\", status=200, ts=1513720905284, userAgent='\"Mozilla/5.0 (Windows NT 6.1; WOW64) AppleWebKit/537.36 (KHTML, like Gecko) Chrome/36.0.1985.143 Safari/537.36\"', userId='2373'),\n",
       " Row(artist=None, auth='Logged In', firstName='Jordyn', gender='F', itemInSession=0, lastName='Jones', length=None, level='free', location='Syracuse, NY', method='GET', page='Home', registration=1513648531284, sessionId=1746, song=None, status=200, ts=1513720913284, userAgent='\"Mozilla/5.0 (Macintosh; Intel Mac OS X 10_9_4) AppleWebKit/537.36 (KHTML, like Gecko) Chrome/37.0.2062.94 Safari/537.36\"', userId='1747')]"
      ]
     },
     "execution_count": 23,
     "metadata": {},
     "output_type": "execute_result"
    }
   ],
   "source": [
    "user_log.take(5)"
   ]
  },
  {
   "cell_type": "code",
   "execution_count": 26,
   "metadata": {},
   "outputs": [],
   "source": [
    "out_path = \"sparkify_log_small.csv\""
   ]
  },
  {
   "cell_type": "code",
   "execution_count": null,
   "metadata": {},
   "outputs": [],
   "source": [
    "user_log.write.save(out_path, format=\"csv\", header=True)"
   ]
  },
  {
   "cell_type": "code",
   "execution_count": 28,
   "metadata": {},
   "outputs": [],
   "source": [
    "user_log_2 = spark.read.csv('part-00000-c559ac02-2339-4c42-9a58-98adc1414d21-c000.csv', header=True)"
   ]
  },
  {
   "cell_type": "code",
   "execution_count": 29,
   "metadata": {},
   "outputs": [
    {
     "name": "stdout",
     "output_type": "stream",
     "text": [
      "root\n",
      " |-- artist: string (nullable = true)\n",
      " |-- auth: string (nullable = true)\n",
      " |-- firstName: string (nullable = true)\n",
      " |-- gender: string (nullable = true)\n",
      " |-- itemInSession: string (nullable = true)\n",
      " |-- lastName: string (nullable = true)\n",
      " |-- length: string (nullable = true)\n",
      " |-- level: string (nullable = true)\n",
      " |-- location: string (nullable = true)\n",
      " |-- method: string (nullable = true)\n",
      " |-- page: string (nullable = true)\n",
      " |-- registration: string (nullable = true)\n",
      " |-- sessionId: string (nullable = true)\n",
      " |-- song: string (nullable = true)\n",
      " |-- status: string (nullable = true)\n",
      " |-- ts: string (nullable = true)\n",
      " |-- userAgent: string (nullable = true)\n",
      " |-- userId: string (nullable = true)\n",
      "\n"
     ]
    }
   ],
   "source": [
    "user_log_2.printSchema()"
   ]
  },
  {
   "cell_type": "code",
   "execution_count": 30,
   "metadata": {},
   "outputs": [
    {
     "data": {
      "text/plain": [
       "[Row(artist='Showaddywaddy', auth='Logged In', firstName='Kenneth', gender='M', itemInSession='112', lastName='Matthews', length='232.93342', level='paid', location='Charlotte-Concord-Gastonia, NC-SC', method='PUT', page='NextSong', registration='1509380319284', sessionId='5132', song='Christmas Tears Will Fall', status='200', ts='1513720872284', userAgent='\"Mozilla/5.0 (Windows NT 6.1) AppleWebKit/537.36 (KHTML, like Gecko) Chrome/36.0.1985.125 Safari/537.36\"', userId='1046'),\n",
       " Row(artist='Lily Allen', auth='Logged In', firstName='Elizabeth', gender='F', itemInSession='7', lastName='Chase', length='195.23873', level='free', location='Shreveport-Bossier City, LA', method='PUT', page='NextSong', registration='1512718541284', sessionId='5027', song='Cheryl Tweedy', status='200', ts='1513720878284', userAgent='\"Mozilla/5.0 (Windows NT 6.1) AppleWebKit/537.36 (KHTML, like Gecko) Chrome/36.0.1985.143 Safari/537.36\"', userId='1000')]"
      ]
     },
     "execution_count": 30,
     "metadata": {},
     "output_type": "execute_result"
    }
   ],
   "source": [
    "user_log_2.take(2)"
   ]
  },
  {
   "cell_type": "code",
   "execution_count": 31,
   "metadata": {},
   "outputs": [
    {
     "name": "stdout",
     "output_type": "stream",
     "text": [
      "+------+\n",
      "|userID|\n",
      "+------+\n",
      "|  1046|\n",
      "|  1000|\n",
      "|  2219|\n",
      "|  2373|\n",
      "|  1747|\n",
      "|  1747|\n",
      "|  1162|\n",
      "|  1061|\n",
      "|   748|\n",
      "|   597|\n",
      "|  1806|\n",
      "|   748|\n",
      "|  1176|\n",
      "|  2164|\n",
      "|  2146|\n",
      "|  2219|\n",
      "|  1176|\n",
      "|  2904|\n",
      "|   597|\n",
      "|   226|\n",
      "+------+\n",
      "only showing top 20 rows\n",
      "\n"
     ]
    }
   ],
   "source": [
    "user_log_2.select(\"userID\").show()"
   ]
  },
  {
   "cell_type": "code",
   "execution_count": 32,
   "metadata": {},
   "outputs": [
    {
     "data": {
      "text/plain": [
       "[Row(artist='Showaddywaddy', auth='Logged In', firstName='Kenneth', gender='M', itemInSession='112', lastName='Matthews', length='232.93342', level='paid', location='Charlotte-Concord-Gastonia, NC-SC', method='PUT', page='NextSong', registration='1509380319284', sessionId='5132', song='Christmas Tears Will Fall', status='200', ts='1513720872284', userAgent='\"Mozilla/5.0 (Windows NT 6.1) AppleWebKit/537.36 (KHTML, like Gecko) Chrome/36.0.1985.125 Safari/537.36\"', userId='1046')]"
      ]
     },
     "execution_count": 32,
     "metadata": {},
     "output_type": "execute_result"
    }
   ],
   "source": [
    "user_log_2.take(1)"
   ]
  }
 ],
 "metadata": {
  "kernelspec": {
   "display_name": "Python 3",
   "language": "python",
   "name": "python3"
  },
  "language_info": {
   "codemirror_mode": {
    "name": "ipython",
    "version": 3
   },
   "file_extension": ".py",
   "mimetype": "text/x-python",
   "name": "python",
   "nbconvert_exporter": "python",
   "pygments_lexer": "ipython3",
   "version": "3.8.2 (tags/v3.8.2:7b3ab59, Feb 25 2020, 23:03:10) [MSC v.1916 64 bit (AMD64)]"
  },
  "orig_nbformat": 4,
  "vscode": {
   "interpreter": {
    "hash": "570feb405e2e27c949193ac68f46852414290d515b0ba6e5d90d076ed2284471"
   }
  }
 },
 "nbformat": 4,
 "nbformat_minor": 2
}
